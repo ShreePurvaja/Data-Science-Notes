{
  "nbformat": 4,
  "nbformat_minor": 0,
  "metadata": {
    "colab": {
      "provenance": [],
      "authorship_tag": "ABX9TyNMzo0IJ86qX4go2Cxba916",
      "include_colab_link": true
    },
    "kernelspec": {
      "name": "python3",
      "display_name": "Python 3"
    },
    "language_info": {
      "name": "python"
    }
  },
  "cells": [
    {
      "cell_type": "markdown",
      "metadata": {
        "id": "view-in-github",
        "colab_type": "text"
      },
      "source": [
        "<a href=\"https://colab.research.google.com/github/ShreePurvaja/Data-Science-Notes/blob/main/Tuple%2CSet%2CDictionary.ipynb\" target=\"_parent\"><img src=\"https://colab.research.google.com/assets/colab-badge.svg\" alt=\"Open In Colab\"/></a>"
      ]
    },
    {
      "cell_type": "markdown",
      "source": [
        "# 29.01.2025"
      ],
      "metadata": {
        "id": "dFj7sDs0PZO3"
      }
    },
    {
      "cell_type": "code",
      "source": [
        "#Tuple - immutable\n",
        "\n",
        "my_tuple = (1, 2, 3)\n",
        "\n",
        "# Accessing elements from the tuple\n",
        "print(my_tuple)      # Output: (1, 2, 3)\n",
        "print(my_tuple[0])   # Output: 1\n",
        "print(my_tuple[1])   # Output: 2\n"
      ],
      "metadata": {
        "id": "42IZ2Pa0P5JP",
        "colab": {
          "base_uri": "https://localhost:8080/"
        },
        "outputId": "a01b6014-d412-4e58-c7ba-efacae22f4f0"
      },
      "execution_count": 1,
      "outputs": [
        {
          "output_type": "stream",
          "name": "stdout",
          "text": [
            "(1, 2, 3)\n",
            "1\n",
            "2\n"
          ]
        }
      ]
    },
    {
      "cell_type": "code",
      "source": [
        "#set - unordered and it doesn't have index [removes the duplicate values automatically]\n",
        "\n",
        "A = {1, 2, 3, 4}\n",
        "B = {3, 4, 5, 6}\n",
        "\n",
        "print(A | B)  # Union: {1, 2, 3, 4, 5, 6}\n",
        "\n",
        "print(A & B)  # Intersection: {3, 4}\n",
        "\n",
        "print(A - B)  # Difference: {1, 2} (Elements in A but not in B)\n",
        "\n",
        "print(B - A)    # Difference: {5, 6} (Elements in B but not in A)\n",
        "\n",
        "print(A ^ B)  # Symmetric Difference: {1, 2, 5, 6} (Elements in A or B but not both)\n"
      ],
      "metadata": {
        "colab": {
          "base_uri": "https://localhost:8080/"
        },
        "id": "lmdhPrKMRPlk",
        "outputId": "7952328b-093e-4276-b7df-898086292f53"
      },
      "execution_count": null,
      "outputs": [
        {
          "output_type": "stream",
          "name": "stdout",
          "text": [
            "{1, 2, 3, 4, 5, 6}\n",
            "{3, 4}\n",
            "{1, 2}\n",
            "{5, 6}\n",
            "{1, 2, 5, 6}\n"
          ]
        }
      ]
    },
    {
      "cell_type": "code",
      "source": [
        "#set - to list\n",
        "\n",
        "list1 = [1, 2, 3, 4, 5]\n",
        "list2 = [4, 5, 6, 7, 8]\n",
        "\n",
        "common = set(list1) & set(list2)\n",
        "\n",
        "print(common) #output: {4,5}\n",
        "\n",
        "print(4 in common)\n",
        "\n",
        "print(list(common))  # Output: converted as list\n"
      ],
      "metadata": {
        "colab": {
          "base_uri": "https://localhost:8080/"
        },
        "id": "ywQ2XsnqP8Ou",
        "outputId": "1b0b217a-b8f3-4a48-bd00-d51306e91e4e"
      },
      "execution_count": null,
      "outputs": [
        {
          "output_type": "stream",
          "name": "stdout",
          "text": [
            "{4, 5}\n",
            "True\n",
            "[4, 5]\n"
          ]
        }
      ]
    },
    {
      "cell_type": "code",
      "source": [
        "a=\"He has also led corporate and college training programs and developed hands-on coding platforms and assessments. His expertise spans across software development, cloud computing, big data tools, and ed-tech solutions.Would you like more specific details about his work or background?\"\n",
        "\n",
        "print(len(a.split())) - #it splits the string into words\n",
        "\n",
        "print(len(set(a.split()))) #it splits the string into words and removes the duplicate words\n",
        "\n"
      ],
      "metadata": {
        "colab": {
          "base_uri": "https://localhost:8080/"
        },
        "id": "bWXK9ryXS5m0",
        "outputId": "f3fe8691-f11a-4478-c6d3-a14b72af7841"
      },
      "execution_count": null,
      "outputs": [
        {
          "output_type": "stream",
          "name": "stdout",
          "text": [
            "40\n",
            "37\n"
          ]
        }
      ]
    },
    {
      "cell_type": "code",
      "source": [
        "# dictionary - key value pair\n",
        "\n",
        "b={'Name':'Shree Purvaja','Age':21,'Gender':'Female','Degree':['MSc,MBA']}\n",
        "\n",
        "print(b['Name'])\n",
        "\n",
        "print(b['Degree'])\n",
        "\n",
        "print(b['Degree'][0])\n",
        "\n",
        "print(b.keys()) #only applicable to dictionary\n",
        "\n",
        "print(b.values())\n",
        "\n",
        "print(b.items())  #gives the output as tuple inside a list since dictionary is not iterable object"
      ],
      "metadata": {
        "colab": {
          "base_uri": "https://localhost:8080/"
        },
        "id": "peXJhXp4VBau",
        "outputId": "1a9029c5-e5b1-43c6-ab9d-e2595f13dc30"
      },
      "execution_count": null,
      "outputs": [
        {
          "output_type": "stream",
          "name": "stdout",
          "text": [
            "Shree Purvaja\n",
            "['MSc,MBA']\n",
            "MSc,MBA\n",
            "dict_keys(['Name', 'Age', 'Gender', 'Degree'])\n",
            "dict_values(['Shree Purvaja', '21', 'Female', ['MSc,MBA']])\n",
            "dict_items([('Name', 'Shree Purvaja'), ('Age', '21'), ('Gender', 'Female'), ('Degree', ['MSc,MBA'])])\n"
          ]
        }
      ]
    },
    {
      "cell_type": "code",
      "source": [
        "#dictionary in for loop\n",
        "\n",
        "C={'Name':'Shree Purvaja','Age':21,'Gender':'Female','Degree':['MSc,MBA']}\n",
        "\n",
        "for key in C.keys():\n",
        "  print(key)\n",
        "\n",
        "for key,values in C.items():\n",
        "  print(key,values)\n",
        "\n",
        "for a in C.values():\n",
        "  print(a)"
      ],
      "metadata": {
        "colab": {
          "base_uri": "https://localhost:8080/"
        },
        "id": "iUybuCauXvur",
        "outputId": "a960699f-843e-48ae-9014-eab83439936d"
      },
      "execution_count": null,
      "outputs": [
        {
          "output_type": "stream",
          "name": "stdout",
          "text": [
            "Name\n",
            "Age\n",
            "Gender\n",
            "Degree\n",
            "Name Shree Purvaja\n",
            "Age 21\n",
            "Gender Female\n",
            "Degree ['MSc,MBA']\n",
            "Shree Purvaja\n",
            "21\n",
            "Female\n",
            "['MSc,MBA']\n"
          ]
        }
      ]
    },
    {
      "cell_type": "code",
      "source": [
        "C={'Name':'Shree Purvaja','Age':21,'Gender':'Female','Degree':['MSc,MBA'],'Gender':'Female'}\n",
        "\n",
        "print(C)  #avoids the duplicate values\n",
        "\n",
        "C['Name']=['Purvaja','Classy']\n",
        "\n",
        "print(C)\n",
        "\n",
        "C['Salary']='1,00,000'  #adds new key to the dictionary\n",
        "\n",
        "print(C)\n",
        "\n",
        "del C['Gender']   #deletes the key\n",
        "\n",
        "print(C)\n",
        "\n",
        "C['Job Role']='Data Scientist'\n",
        "\n",
        "print(C)\n",
        "\n"
      ],
      "metadata": {
        "colab": {
          "base_uri": "https://localhost:8080/"
        },
        "id": "5OYKYfE4ZhNW",
        "outputId": "cb46922c-f996-46c3-f584-3c126371570d"
      },
      "execution_count": null,
      "outputs": [
        {
          "output_type": "stream",
          "name": "stdout",
          "text": [
            "{'Name': 'Shree Purvaja', 'Age': 21, 'Gender': 'Female', 'Degree': ['MSc,MBA']}\n",
            "{'Name': ['Purvaja', 'Classy'], 'Age': 21, 'Gender': 'Female', 'Degree': ['MSc,MBA']}\n",
            "{'Name': ['Purvaja', 'Classy'], 'Age': 21, 'Gender': 'Female', 'Degree': ['MSc,MBA'], 'Salary': '1,00,000'}\n",
            "{'Name': ['Purvaja', 'Classy'], 'Age': 21, 'Degree': ['MSc,MBA'], 'Salary': '1,00,000'}\n",
            "{'Name': ['Purvaja', 'Classy'], 'Age': 21, 'Degree': ['MSc,MBA'], 'Salary': '1,00,000', 'Job Role': 'Data Scientist'}\n"
          ]
        }
      ]
    },
    {
      "cell_type": "code",
      "source": [
        "def total_savings(n):\n",
        "    if n == 0:\n",
        "        return 1000  # Only initial savings\n",
        "    elif n == 1:\n",
        "        return 2000  # Initial + first month\n",
        "\n",
        "    prev, curr = 1000, 1000\n",
        "    total = prev + curr  # Sum of first two months\n",
        "\n",
        "    for _ in range(2, n + 1):\n",
        "        new_savings = prev + curr  # F(n) = F(n-1) + F(n-2)\n",
        "        total += new_savings  # Add to total savings\n",
        "        prev, curr = curr, new_savings  # Shift values\n",
        "\n",
        "    return total\n",
        "\n",
        "# Taking input\n",
        "n = int(input())\n",
        "print(total_savings(n))\n"
      ],
      "metadata": {
        "colab": {
          "base_uri": "https://localhost:8080/"
        },
        "id": "hHA4vkEQheiG",
        "outputId": "c64d7eec-2037-4e19-f768-87b88bf6285c"
      },
      "execution_count": null,
      "outputs": [
        {
          "output_type": "stream",
          "name": "stdout",
          "text": [
            "2\n",
            "4000\n"
          ]
        }
      ]
    }
  ]
}