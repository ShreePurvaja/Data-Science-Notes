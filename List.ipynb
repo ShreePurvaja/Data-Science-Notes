{
  "nbformat": 4,
  "nbformat_minor": 0,
  "metadata": {
    "colab": {
      "provenance": [],
      "authorship_tag": "ABX9TyPa1pTFutJFhkxitwL55qHF",
      "include_colab_link": true
    },
    "kernelspec": {
      "name": "python3",
      "display_name": "Python 3"
    },
    "language_info": {
      "name": "python"
    }
  },
  "cells": [
    {
      "cell_type": "markdown",
      "metadata": {
        "id": "view-in-github",
        "colab_type": "text"
      },
      "source": [
        "<a href=\"https://colab.research.google.com/github/ShreePurvaja/Data-Science-Notes/blob/main/List.ipynb\" target=\"_parent\"><img src=\"https://colab.research.google.com/assets/colab-badge.svg\" alt=\"Open In Colab\"/></a>"
      ]
    },
    {
      "cell_type": "markdown",
      "source": [
        "## 28-01-2025"
      ],
      "metadata": {
        "id": "gb-ZwV-_Ib0_"
      }
    },
    {
      "cell_type": "code",
      "execution_count": null,
      "metadata": {
        "colab": {
          "base_uri": "https://localhost:8080/"
        },
        "id": "EayKpRTYDhg3",
        "outputId": "47d8f6f0-4b54-4ce6-a172-6d7c631dc0a4"
      },
      "outputs": [
        {
          "output_type": "stream",
          "name": "stdout",
          "text": [
            "['shree', '26', 'skasc', '3rd ss', ['gd', '21', 'ss', 'hi']]\n",
            "26\n",
            "['shree', '26', 'skasc', '3rd ss']\n",
            "['gd', '21', 'ss', 'hi']\n",
            "gd\n",
            "[['gd', '21', 'ss', 'hi'], '3rd ss', 'skasc', '26', 'shree']\n",
            "['hi', 'ss', '21', 'gd']\n",
            "['gd', 'ss']\n",
            "shree\n",
            "26\n",
            "3rd ss\n"
          ]
        }
      ],
      "source": [
        "#list\n",
        "\n",
        "a=['shree','26','skasc','3rd ss',['gd','21','ss','hi']]\n",
        "print(a)\n",
        "print(a[1])\n",
        "print(a[0:4])\n",
        "print(a[4])\n",
        "print(a[4][0])\n",
        "print(a[::-1])\n",
        "print(a[4][::-1])\n",
        "print(a[4][0:3:2])\n",
        "\n",
        "#using for loop\n",
        "for i in [0,1,3]:\n",
        "  print(a[i])"
      ]
    },
    {
      "cell_type": "code",
      "source": [
        "#list operations\n",
        "\n",
        "a=['hi','hello']\n",
        "\n",
        "a.append('welcome')\n",
        "print(a)\n",
        "\n",
        "a.append([1,2,3])\n",
        "print(a)\n",
        "\n",
        "for i in range(3):  #to add multiple inputs in list using for loop\n",
        "  a.append(input())\n",
        "print(a)\n",
        "\n",
        "a.extend([10,20,30])\n",
        "print(a)\n",
        "\n",
        "a.insert(1,'world')\n",
        "print(a)\n",
        "\n",
        "print(a.index('hi'))\n",
        "\n",
        "print('hi' in a)\n",
        "\n",
        "print(a.index([1,2,3]))\n",
        "\n",
        "print(a.count(10))"
      ],
      "metadata": {
        "colab": {
          "base_uri": "https://localhost:8080/"
        },
        "id": "h5pexjwAKdpT",
        "outputId": "2b9cfd3a-7a08-4ba5-e096-457191a574cd"
      },
      "execution_count": null,
      "outputs": [
        {
          "output_type": "stream",
          "name": "stdout",
          "text": [
            "['hi', 'hello', 'welcome']\n",
            "['hi', 'hello', 'welcome', [1, 2, 3]]\n",
            "I\n",
            "LOVE\n",
            "PYTHON\n",
            "['hi', 'hello', 'welcome', [1, 2, 3], 'I', 'LOVE', 'PYTHON']\n",
            "['hi', 'hello', 'welcome', [1, 2, 3], 'I', 'LOVE', 'PYTHON', 10, 20, 30]\n",
            "['hi', 'world', 'hello', 'welcome', [1, 2, 3], 'I', 'LOVE', 'PYTHON', 10, 20, 30]\n",
            "0\n",
            "True\n",
            "4\n",
            "1\n"
          ]
        }
      ]
    },
    {
      "cell_type": "code",
      "source": [
        "a=[21,6,26,2004]\n",
        "\n",
        "a.sort()\n",
        "print(a)\n",
        "\n",
        "a.sort(reverse=True)\n",
        "print(a)\n"
      ],
      "metadata": {
        "colab": {
          "base_uri": "https://localhost:8080/"
        },
        "id": "SJyW2qltS7Fn",
        "outputId": "972e052f-694d-45bd-d855-a0f502b7a6c9"
      },
      "execution_count": null,
      "outputs": [
        {
          "output_type": "stream",
          "name": "stdout",
          "text": [
            "[6, 21, 26, 2004]\n",
            "[2004, 26, 21, 6]\n"
          ]
        }
      ]
    },
    {
      "cell_type": "code",
      "source": [
        "b=['shree','purvaja','akshitaa','classy']\n",
        "\n",
        "b.sort()\n",
        "print(b)\n",
        "\n",
        "b.sort(key=len)\n",
        "print(b)\n",
        "\n",
        "print(b[::-1])\n",
        "\n",
        "b.sort(key=len,reverse=True)\n",
        "print(b)"
      ],
      "metadata": {
        "colab": {
          "base_uri": "https://localhost:8080/"
        },
        "id": "EU5JnmwhVMTR",
        "outputId": "80cefede-38f0-44fa-a108-37c99e2f28c9"
      },
      "execution_count": null,
      "outputs": [
        {
          "output_type": "stream",
          "name": "stdout",
          "text": [
            "['akshitaa', 'classy', 'purvaja', 'shree']\n",
            "['shree', 'classy', 'purvaja', 'akshitaa']\n",
            "['akshitaa', 'purvaja', 'classy', 'shree']\n",
            "['akshitaa', 'purvaja', 'classy', 'shree']\n"
          ]
        }
      ]
    },
    {
      "cell_type": "code",
      "source": [
        "a=['shree','purvaja','akshitaa','classy']\n",
        "\n",
        "a.sort()\n",
        "print(a)\n",
        "\n",
        "b=sorted(a,key=len)\n",
        "print(b)\n",
        "\n",
        "print(b[::-1])\n",
        "\n",
        "c=sorted(a,key=len,reverse=True)\n",
        "print(c)"
      ],
      "metadata": {
        "colab": {
          "base_uri": "https://localhost:8080/"
        },
        "id": "qGqKFvhhV0rH",
        "outputId": "56f4055d-bc12-438f-817c-070f6801e5b4"
      },
      "execution_count": null,
      "outputs": [
        {
          "output_type": "stream",
          "name": "stdout",
          "text": [
            "['akshitaa', 'classy', 'purvaja', 'shree']\n",
            "['shree', 'classy', 'purvaja', 'akshitaa']\n",
            "['akshitaa', 'purvaja', 'classy', 'shree']\n",
            "['akshitaa', 'purvaja', 'classy', 'shree']\n"
          ]
        }
      ]
    },
    {
      "cell_type": "code",
      "source": [
        "a=['apple','orange','banana','grapes']\n",
        "\n",
        "a.remove('grapes')\n",
        "print(a)\n",
        "\n",
        "a.pop()\n",
        "print(a)\n",
        "\n",
        "a.pop(1)\n",
        "print(a)"
      ],
      "metadata": {
        "colab": {
          "base_uri": "https://localhost:8080/"
        },
        "id": "KKg0Kb-5Xui-",
        "outputId": "e17dd9d6-86c9-40d6-e0d9-cb326884fb41"
      },
      "execution_count": null,
      "outputs": [
        {
          "output_type": "stream",
          "name": "stdout",
          "text": [
            "['apple', 'orange', 'banana']\n",
            "['apple', 'orange']\n",
            "['apple']\n"
          ]
        }
      ]
    },
    {
      "cell_type": "code",
      "source": [
        "a=['india','china','japan','spain']\n",
        "b=a.pop(3)\n",
        "print(a)\n",
        "\n",
        "print(b)\n",
        "\n",
        "del a[1]\n",
        "print(a)"
      ],
      "metadata": {
        "colab": {
          "base_uri": "https://localhost:8080/"
        },
        "id": "8ohYqU09YbsM",
        "outputId": "fef815a9-5921-4506-a72b-2ef813c3216f"
      },
      "execution_count": null,
      "outputs": [
        {
          "output_type": "stream",
          "name": "stdout",
          "text": [
            "['india', 'china', 'japan']\n",
            "spain\n",
            "['india', 'japan']\n"
          ]
        }
      ]
    }
  ]
}