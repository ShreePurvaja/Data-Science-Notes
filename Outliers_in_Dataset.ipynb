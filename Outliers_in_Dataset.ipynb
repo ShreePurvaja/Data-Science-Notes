{
  "nbformat": 4,
  "nbformat_minor": 0,
  "metadata": {
    "colab": {
      "provenance": [],
      "authorship_tag": "ABX9TyNs3pFq3wT3l/MwnQi3pNqQ",
      "include_colab_link": true
    },
    "kernelspec": {
      "name": "python3",
      "display_name": "Python 3"
    },
    "language_info": {
      "name": "python"
    }
  },
  "cells": [
    {
      "cell_type": "markdown",
      "metadata": {
        "id": "view-in-github",
        "colab_type": "text"
      },
      "source": [
        "<a href=\"https://colab.research.google.com/github/ShreePurvaja/Data-Science-Notes/blob/main/Outliers_in_Dataset.ipynb\" target=\"_parent\"><img src=\"https://colab.research.google.com/assets/colab-badge.svg\" alt=\"Open In Colab\"/></a>"
      ]
    },
    {
      "cell_type": "code",
      "execution_count": 2,
      "metadata": {
        "id": "k6rm6j_x4QjY"
      },
      "outputs": [],
      "source": [
        "import pandas as pd\n",
        "import numpy as np"
      ]
    },
    {
      "cell_type": "code",
      "source": [
        "dataset=[19, 27, 29, 1000, 26, 190, 21, 25, 14, 22, 11, 16, 26, 21, 27, 13, 17,\n",
        "       25, 25, 13, 22, 200, 14, 10, 18, 24, 18, 14, 20, 14, 15, 21, 22, 11]\n",
        "dataset"
      ],
      "metadata": {
        "colab": {
          "base_uri": "https://localhost:8080/"
        },
        "id": "1nMmJvOR5XHu",
        "outputId": "aeb8e2c1-1224-49e7-dda3-9804bbb741a9"
      },
      "execution_count": 31,
      "outputs": [
        {
          "output_type": "execute_result",
          "data": {
            "text/plain": [
              "[19,\n",
              " 27,\n",
              " 29,\n",
              " 1000,\n",
              " 26,\n",
              " 190,\n",
              " 21,\n",
              " 25,\n",
              " 14,\n",
              " 22,\n",
              " 11,\n",
              " 16,\n",
              " 26,\n",
              " 21,\n",
              " 27,\n",
              " 13,\n",
              " 17,\n",
              " 25,\n",
              " 25,\n",
              " 13,\n",
              " 22,\n",
              " 200,\n",
              " 14,\n",
              " 10,\n",
              " 18,\n",
              " 24,\n",
              " 18,\n",
              " 14,\n",
              " 20,\n",
              " 14,\n",
              " 15,\n",
              " 21,\n",
              " 22,\n",
              " 11]"
            ]
          },
          "metadata": {},
          "execution_count": 31
        }
      ]
    },
    {
      "cell_type": "code",
      "source": [
        "len(dataset)"
      ],
      "metadata": {
        "colab": {
          "base_uri": "https://localhost:8080/"
        },
        "id": "69FrANy6OWLs",
        "outputId": "04f5a8ab-c199-4280-acf0-968738213286"
      },
      "execution_count": 32,
      "outputs": [
        {
          "output_type": "execute_result",
          "data": {
            "text/plain": [
              "34"
            ]
          },
          "metadata": {},
          "execution_count": 32
        }
      ]
    },
    {
      "cell_type": "code",
      "source": [
        "np.mean(dataset)"
      ],
      "metadata": {
        "colab": {
          "base_uri": "https://localhost:8080/"
        },
        "id": "xH6fAEY3OZrt",
        "outputId": "70f39c8b-1eca-4be5-e3d1-d01097ff44f4"
      },
      "execution_count": 33,
      "outputs": [
        {
          "output_type": "execute_result",
          "data": {
            "text/plain": [
              "np.float64(58.529411764705884)"
            ]
          },
          "metadata": {},
          "execution_count": 33
        }
      ]
    },
    {
      "cell_type": "code",
      "source": [
        "np.median(dataset)"
      ],
      "metadata": {
        "colab": {
          "base_uri": "https://localhost:8080/"
        },
        "id": "l99JrmQSOdVw",
        "outputId": "2b124d08-a0e6-4953-b992-31d70a3e3797"
      },
      "execution_count": 34,
      "outputs": [
        {
          "output_type": "execute_result",
          "data": {
            "text/plain": [
              "np.float64(21.0)"
            ]
          },
          "metadata": {},
          "execution_count": 34
        }
      ]
    },
    {
      "cell_type": "code",
      "source": [
        "np.std(dataset)"
      ],
      "metadata": {
        "colab": {
          "base_uri": "https://localhost:8080/"
        },
        "id": "wSANBqG0OgcR",
        "outputId": "e93a73cd-fc2f-4b1c-e96b-b84e4f3de1f6"
      },
      "execution_count": 35,
      "outputs": [
        {
          "output_type": "execute_result",
          "data": {
            "text/plain": [
              "np.float64(169.09329747980894)"
            ]
          },
          "metadata": {},
          "execution_count": 35
        }
      ]
    },
    {
      "cell_type": "markdown",
      "source": [
        "# **Z-Score Testing Outliers**"
      ],
      "metadata": {
        "id": "EycDBXV8TMdl"
      }
    },
    {
      "cell_type": "code",
      "source": [
        "outliers=[]\n",
        "\n",
        "def detect_outliers(data):\n",
        "    threshold=3\n",
        "    mean=np.mean(data)\n",
        "    std=np.std(data)\n",
        "\n",
        "    for  i in data:\n",
        "      z_score=(i-mean)/std\n",
        "      if np.abs(z_score)>threshold:\n",
        "        outliers.append(i)\n",
        "    return outliers"
      ],
      "metadata": {
        "id": "nDLzz3zuR1kU"
      },
      "execution_count": 36,
      "outputs": []
    },
    {
      "cell_type": "code",
      "source": [
        "outlier_pt=detect_outliers(dataset)\n",
        "outlier_pt"
      ],
      "metadata": {
        "colab": {
          "base_uri": "https://localhost:8080/"
        },
        "id": "aziqH5XFScFb",
        "outputId": "9df91415-ac62-490c-e88a-de5c2553ba3a"
      },
      "execution_count": 37,
      "outputs": [
        {
          "output_type": "execute_result",
          "data": {
            "text/plain": [
              "[1000]"
            ]
          },
          "metadata": {},
          "execution_count": 37
        }
      ]
    },
    {
      "cell_type": "markdown",
      "source": [
        "# **InterQuantile Range**"
      ],
      "metadata": {
        "id": "H9aCGvxBTQGI"
      }
    },
    {
      "cell_type": "markdown",
      "source": [
        "# Sort the data"
      ],
      "metadata": {
        "id": "ExkH3AOeT2h9"
      }
    },
    {
      "cell_type": "code",
      "source": [
        "sorted(dataset)"
      ],
      "metadata": {
        "colab": {
          "base_uri": "https://localhost:8080/"
        },
        "id": "PhxuVp5TTTBs",
        "outputId": "1fd3e95a-e446-4549-ca56-2d24fbe32823"
      },
      "execution_count": 39,
      "outputs": [
        {
          "output_type": "execute_result",
          "data": {
            "text/plain": [
              "[10,\n",
              " 11,\n",
              " 11,\n",
              " 13,\n",
              " 13,\n",
              " 14,\n",
              " 14,\n",
              " 14,\n",
              " 14,\n",
              " 15,\n",
              " 16,\n",
              " 17,\n",
              " 18,\n",
              " 18,\n",
              " 19,\n",
              " 20,\n",
              " 21,\n",
              " 21,\n",
              " 21,\n",
              " 22,\n",
              " 22,\n",
              " 22,\n",
              " 24,\n",
              " 25,\n",
              " 25,\n",
              " 25,\n",
              " 26,\n",
              " 26,\n",
              " 27,\n",
              " 27,\n",
              " 29,\n",
              " 190,\n",
              " 200,\n",
              " 1000]"
            ]
          },
          "metadata": {},
          "execution_count": 39
        }
      ]
    },
    {
      "cell_type": "markdown",
      "source": [
        "# **Calculate q1 , q3**"
      ],
      "metadata": {
        "id": "QvgSFAzMTy3R"
      }
    },
    {
      "cell_type": "code",
      "source": [
        "quantile1,quantile3=np.percentile(dataset,[25,75])\n",
        "display(quantile1,quantile3)"
      ],
      "metadata": {
        "colab": {
          "base_uri": "https://localhost:8080/",
          "height": 52
        },
        "id": "KizScc8hTm21",
        "outputId": "71b0fe92-679d-42ff-940e-dac5fd144ed3"
      },
      "execution_count": 41,
      "outputs": [
        {
          "output_type": "display_data",
          "data": {
            "text/plain": [
              "np.float64(14.25)"
            ]
          },
          "metadata": {}
        },
        {
          "output_type": "display_data",
          "data": {
            "text/plain": [
              "np.float64(25.0)"
            ]
          },
          "metadata": {}
        }
      ]
    },
    {
      "cell_type": "markdown",
      "source": [
        "# **Find the IQR**"
      ],
      "metadata": {
        "id": "vd--BjSjT5ta"
      }
    },
    {
      "cell_type": "code",
      "source": [
        "iqr_value=quantile3-quantile1\n",
        "iqr_value"
      ],
      "metadata": {
        "colab": {
          "base_uri": "https://localhost:8080/"
        },
        "id": "oo0v-UpLTx0V",
        "outputId": "ef1ab4e5-a679-4900-811a-d07b0a33c2a0"
      },
      "execution_count": 42,
      "outputs": [
        {
          "output_type": "execute_result",
          "data": {
            "text/plain": [
              "np.float64(10.75)"
            ]
          },
          "metadata": {},
          "execution_count": 42
        }
      ]
    },
    {
      "cell_type": "markdown",
      "source": [
        "# **Find lower and upper bound**"
      ],
      "metadata": {
        "id": "lYL9aCZaUCEF"
      }
    },
    {
      "cell_type": "code",
      "source": [
        "lower_bound_val=quantile1-(1.5*iqr_value)\n",
        "upper_bound_val=quantile3+(1.5*iqr_value)\n",
        "display(lower_bound_val,upper_bound_val)"
      ],
      "metadata": {
        "colab": {
          "base_uri": "https://localhost:8080/",
          "height": 52
        },
        "id": "zFGEh40mUA-B",
        "outputId": "53085933-712c-43ac-ce70-124628a12434"
      },
      "execution_count": 43,
      "outputs": [
        {
          "output_type": "display_data",
          "data": {
            "text/plain": [
              "np.float64(-1.875)"
            ]
          },
          "metadata": {}
        },
        {
          "output_type": "display_data",
          "data": {
            "text/plain": [
              "np.float64(41.125)"
            ]
          },
          "metadata": {}
        }
      ]
    },
    {
      "cell_type": "markdown",
      "source": [
        "# **Look for outliers**"
      ],
      "metadata": {
        "id": "iLBo6rknUR1o"
      }
    },
    {
      "cell_type": "code",
      "source": [
        "dataset=np.where(dataset>upper_bound_val,upper_bound_val,dataset)\n",
        "dataset"
      ],
      "metadata": {
        "colab": {
          "base_uri": "https://localhost:8080/"
        },
        "id": "7MkTxbNeUReR",
        "outputId": "d48c46cb-9ae7-40ac-8f59-2c065c1062e6"
      },
      "execution_count": 44,
      "outputs": [
        {
          "output_type": "execute_result",
          "data": {
            "text/plain": [
              "array([19.   , 27.   , 29.   , 41.125, 26.   , 41.125, 21.   , 25.   ,\n",
              "       14.   , 22.   , 11.   , 16.   , 26.   , 21.   , 27.   , 13.   ,\n",
              "       17.   , 25.   , 25.   , 13.   , 22.   , 41.125, 14.   , 10.   ,\n",
              "       18.   , 24.   , 18.   , 14.   , 20.   , 14.   , 15.   , 21.   ,\n",
              "       22.   , 11.   ])"
            ]
          },
          "metadata": {},
          "execution_count": 44
        }
      ]
    }
  ]
}