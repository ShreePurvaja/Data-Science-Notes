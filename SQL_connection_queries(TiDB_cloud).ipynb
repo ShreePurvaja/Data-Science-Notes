{
  "nbformat": 4,
  "nbformat_minor": 0,
  "metadata": {
    "colab": {
      "provenance": [],
      "authorship_tag": "ABX9TyMCRdwjyolQyqTPOlXHB3GC",
      "include_colab_link": true
    },
    "kernelspec": {
      "name": "python3",
      "display_name": "Python 3"
    },
    "language_info": {
      "name": "python"
    }
  },
  "cells": [
    {
      "cell_type": "markdown",
      "metadata": {
        "id": "view-in-github",
        "colab_type": "text"
      },
      "source": [
        "<a href=\"https://colab.research.google.com/github/ShreePurvaja/Data-Science-Notes/blob/main/SQL_connection_queries(TiDB_cloud).ipynb\" target=\"_parent\"><img src=\"https://colab.research.google.com/assets/colab-badge.svg\" alt=\"Open In Colab\"/></a>"
      ]
    },
    {
      "cell_type": "markdown",
      "source": [
        "# 12.02.2025"
      ],
      "metadata": {
        "id": "CIxeiM95TRGL"
      }
    },
    {
      "cell_type": "code",
      "execution_count": null,
      "metadata": {
        "colab": {
          "base_uri": "https://localhost:8080/"
        },
        "id": "zU95cue_TPNE",
        "outputId": "12aee311-eebc-45eb-83ca-8e91172da837"
      },
      "outputs": [
        {
          "output_type": "stream",
          "name": "stdout",
          "text": [
            "Collecting mysql-connector-python\n",
            "  Downloading mysql_connector_python-9.2.0-cp311-cp311-manylinux_2_28_x86_64.whl.metadata (6.0 kB)\n",
            "Downloading mysql_connector_python-9.2.0-cp311-cp311-manylinux_2_28_x86_64.whl (34.0 MB)\n",
            "\u001b[2K   \u001b[90m━━━━━━━━━━━━━━━━━━━━━━━━━━━━━━━━━━━━━━━━\u001b[0m \u001b[32m34.0/34.0 MB\u001b[0m \u001b[31m50.5 MB/s\u001b[0m eta \u001b[36m0:00:00\u001b[0m\n",
            "\u001b[?25hInstalling collected packages: mysql-connector-python\n",
            "Successfully installed mysql-connector-python-9.2.0\n"
          ]
        }
      ],
      "source": [
        "!pip install mysql-connector-python"
      ]
    },
    {
      "cell_type": "code",
      "source": [
        "import mysql.connector\n",
        "\n",
        "connection = mysql.connector.connect(\n",
        "  host = \"gateway01.ap-southeast-1.prod.aws.tidbcloud.com\",\n",
        "  port = 4000,\n",
        "  user = \"2yYzWuNLpsRGRUo.root\",\n",
        "  password = \"LziV3VzKcgY6K7lq\",\n",
        "  database = \"purvaja\",\n",
        ")\n",
        "\n",
        "mycursor = connection.cursor()"
      ],
      "metadata": {
        "id": "ca3C_UQwVTp1"
      },
      "execution_count": null,
      "outputs": []
    },
    {
      "cell_type": "code",
      "source": [
        "#to create database\n",
        "mycursor.execute(\"create database MDTE36\")"
      ],
      "metadata": {
        "id": "ttvbT5PjVatw"
      },
      "execution_count": null,
      "outputs": []
    },
    {
      "cell_type": "code",
      "source": [
        "#to create database in a loop\n",
        "for i in range(1,4):\n",
        "  mycursor.execute(f\"create database guvi{i}\")"
      ],
      "metadata": {
        "id": "38ILiR9PZqoz"
      },
      "execution_count": null,
      "outputs": []
    },
    {
      "cell_type": "code",
      "source": [
        "#to delete database\n",
        "mycursor.execute(\"drop database guvi2\")"
      ],
      "metadata": {
        "id": "1nPjqpOyafS-"
      },
      "execution_count": null,
      "outputs": []
    },
    {
      "cell_type": "code",
      "source": [
        "mycursor.execute(\"create table guvi1.customers (id int, name varchar(255))\")"
      ],
      "metadata": {
        "id": "x7rM9_VcfJmc"
      },
      "execution_count": null,
      "outputs": []
    },
    {
      "cell_type": "code",
      "source": [
        "mycursor.execute(\"use guvi1\")\n",
        "mycursor.execute(\"show tables\")\n",
        "for i in mycursor:\n",
        "  print(i)"
      ],
      "metadata": {
        "colab": {
          "base_uri": "https://localhost:8080/"
        },
        "id": "HWz5UjUqiWT1",
        "outputId": "323081d1-d2bc-4416-d800-40e4c3b064b2"
      },
      "execution_count": null,
      "outputs": [
        {
          "output_type": "stream",
          "name": "stdout",
          "text": [
            "('customers',)\n"
          ]
        }
      ]
    },
    {
      "cell_type": "code",
      "source": [
        "mycursor.execute(\"insert into guvi1.customers (id, name) values (1, 'Purvaja')\")"
      ],
      "metadata": {
        "id": "2XzX07VHjSJB"
      },
      "execution_count": null,
      "outputs": []
    },
    {
      "cell_type": "code",
      "source": [
        "connection.commit() # to be used for update and insert statements"
      ],
      "metadata": {
        "id": "DxaFGL7Ej4uC"
      },
      "execution_count": null,
      "outputs": []
    },
    {
      "cell_type": "code",
      "source": [
        "a=int(input())\n",
        "\n",
        "b=input()\n",
        "\n",
        "mycursor.execute()"
      ],
      "metadata": {
        "colab": {
          "base_uri": "https://localhost:8080/"
        },
        "id": "FwdQkUsnl9s_",
        "outputId": "d6c3c5fe-6a97-46a8-ccef-a508b5e1dcef"
      },
      "execution_count": null,
      "outputs": [
        {
          "name": "stdout",
          "output_type": "stream",
          "text": [
            "2\n",
            "Gowtham\n"
          ]
        }
      ]
    },
    {
      "cell_type": "code",
      "source": [
        "#to connect to mysql using try block\n",
        "import mysql.connector\n",
        "\n",
        "try:\n",
        "  connection = mysql.connector.connect(\n",
        "    host = \"gateway01.ap-southeast-1.prod.aws.tidbcloud.com\",\n",
        "    port = 4000,\n",
        "    user = \"2yYzWuNLpsRGRUo.root\",\n",
        "    password = \"LziV3VzKcgY6K7lq\",\n",
        "    database = \"purvaja\",\n",
        ")\n",
        "  if connection.is_connected():\n",
        "    cursor = connection.cursor()\n",
        "    cursor.execute(\"select * from guvi1.customers\")\n",
        "except Error as e:\n",
        "  print(f\"Error:{e}\")\n",
        "\n",
        "finally:\n",
        "  if connection.is_connected():\n",
        "    cursor.close()\n",
        "    connection.close()\n",
        "    print(\"MySQL connection is closed\")\n",
        "\n"
      ],
      "metadata": {
        "id": "Y2djUwaOodxl"
      },
      "execution_count": null,
      "outputs": []
    }
  ]
}