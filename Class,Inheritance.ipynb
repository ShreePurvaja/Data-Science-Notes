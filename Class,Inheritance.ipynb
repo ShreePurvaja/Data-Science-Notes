{
  "nbformat": 4,
  "nbformat_minor": 0,
  "metadata": {
    "colab": {
      "provenance": [],
      "authorship_tag": "ABX9TyNT7X1t3LeKonxafuctk7BU",
      "include_colab_link": true
    },
    "kernelspec": {
      "name": "python3",
      "display_name": "Python 3"
    },
    "language_info": {
      "name": "python"
    }
  },
  "cells": [
    {
      "cell_type": "markdown",
      "metadata": {
        "id": "view-in-github",
        "colab_type": "text"
      },
      "source": [
        "<a href=\"https://colab.research.google.com/github/ShreePurvaja/Data-Science-Notes/blob/main/Class%2CInheritance.ipynb\" target=\"_parent\"><img src=\"https://colab.research.google.com/assets/colab-badge.svg\" alt=\"Open In Colab\"/></a>"
      ]
    },
    {
      "cell_type": "markdown",
      "source": [
        "# 04.02.2025"
      ],
      "metadata": {
        "id": "N6yhklVdIBkJ"
      }
    },
    {
      "cell_type": "code",
      "execution_count": null,
      "metadata": {
        "id": "X0YTyhARGE5f"
      },
      "outputs": [],
      "source": [
        "# classes and objects\n",
        "\n",
        "class bank():\n",
        "\n",
        "  # init  - ram is dynamic here\n",
        "  def __init__(self,name,acc,balance):  #constructor\n",
        "    self.name=name\n",
        "    self.acc=acc\n",
        "    self.balance=balance\n",
        "\n",
        "  def  deposit(self,amount):\n",
        "    self.balance=self.balance+amount\n",
        "    return self.balance\n",
        "\n",
        "  def withdraw(self,amount):\n",
        "    if self.balance >= amount:\n",
        "      self.balance=self.balance-amount\n",
        "      return self.balance\n",
        "    else:\n",
        "      return \"insufficient balance\"\n",
        "\n",
        "    def check_balance(self):\n",
        "      return self.balance\n",
        "\n"
      ]
    },
    {
      "cell_type": "code",
      "source": [
        "shree=bank(\"shree\",1,10000)\n",
        "purvaja=bank(\"purvaja\",2,20000)\n",
        "\n",
        "#here shree and purvaja are objects"
      ],
      "metadata": {
        "id": "tWhPJjXFGqhO"
      },
      "execution_count": null,
      "outputs": []
    },
    {
      "cell_type": "code",
      "source": [
        "shree.deposit(1000)"
      ],
      "metadata": {
        "colab": {
          "base_uri": "https://localhost:8080/"
        },
        "id": "BfMb_PNiGsvw",
        "outputId": "6b504a2c-8251-4cad-9214-2198b7652d56"
      },
      "execution_count": null,
      "outputs": [
        {
          "output_type": "execute_result",
          "data": {
            "text/plain": [
              "11000"
            ]
          },
          "metadata": {},
          "execution_count": 11
        }
      ]
    },
    {
      "cell_type": "code",
      "source": [
        "purvaja.withdraw(100000)"
      ],
      "metadata": {
        "colab": {
          "base_uri": "https://localhost:8080/",
          "height": 35
        },
        "id": "FMvrxKcLGtZt",
        "outputId": "b4338302-6c6a-433b-f35c-8fef14793e33"
      },
      "execution_count": null,
      "outputs": [
        {
          "output_type": "execute_result",
          "data": {
            "text/plain": [
              "'insufficient balance'"
            ],
            "application/vnd.google.colaboratory.intrinsic+json": {
              "type": "string"
            }
          },
          "metadata": {},
          "execution_count": 12
        }
      ]
    },
    {
      "cell_type": "code",
      "source": [
        "class post():\n",
        "  def __init__(self,user,time,content):\n",
        "    self.user=user\n",
        "    self.time=time\n",
        "    self.content=content\n",
        "    self.like=0\n",
        "    self.comment=[]\n",
        "\n",
        "  def like_post(self):\n",
        "    self.like=self.like+1\n",
        "    return self.like\n",
        "\n",
        "  def comment_post(self,user,comment):\n",
        "    self.comment.append(comment)\n",
        "    return \"comment has been successfully posted\"\n",
        "\n",
        "\n"
      ],
      "metadata": {
        "id": "MWyZMUXvKyau"
      },
      "execution_count": null,
      "outputs": []
    },
    {
      "cell_type": "code",
      "source": [
        "from datetime import datetime\n",
        "shree = post(\"Purvaja\",datetime.now(),\"Hey Everybody\")"
      ],
      "metadata": {
        "id": "NkXgG1BBMVhj"
      },
      "execution_count": null,
      "outputs": []
    },
    {
      "cell_type": "code",
      "source": [
        "shree.like_post()\n",
        "\n"
      ],
      "metadata": {
        "colab": {
          "base_uri": "https://localhost:8080/"
        },
        "id": "YEVtAcQ1NW_I",
        "outputId": "d033ebfc-386b-404e-e68c-3101bed87dbb"
      },
      "execution_count": null,
      "outputs": [
        {
          "output_type": "execute_result",
          "data": {
            "text/plain": [
              "1"
            ]
          },
          "metadata": {},
          "execution_count": 38
        }
      ]
    },
    {
      "cell_type": "code",
      "source": [
        "shree.comment_post(\"Purvaja\",\"Arumaiii\")"
      ],
      "metadata": {
        "colab": {
          "base_uri": "https://localhost:8080/",
          "height": 35
        },
        "id": "tRbQkupMOEHh",
        "outputId": "d7f756d3-9e56-40db-893c-1d79c4113d7a"
      },
      "execution_count": null,
      "outputs": [
        {
          "output_type": "execute_result",
          "data": {
            "text/plain": [
              "'comment has been successfully posted'"
            ],
            "application/vnd.google.colaboratory.intrinsic+json": {
              "type": "string"
            }
          },
          "metadata": {},
          "execution_count": 39
        }
      ]
    },
    {
      "cell_type": "code",
      "source": [
        "# inheritance - single inheritance\n",
        "\n",
        "class mother():\n",
        "  def nose(self):\n",
        "    return \"inherited\"\n",
        "\n",
        "class daughter(mother):\n",
        "  def hair(self):\n",
        "    return \"dense and silky\"\n"
      ],
      "metadata": {
        "id": "RSYhAEQPQyrh"
      },
      "execution_count": null,
      "outputs": []
    },
    {
      "cell_type": "code",
      "source": [
        "me=daughter()\n",
        "me.hair()"
      ],
      "metadata": {
        "colab": {
          "base_uri": "https://localhost:8080/",
          "height": 35
        },
        "id": "3P9S5gxPU1Xj",
        "outputId": "677fbfb8-0b17-4f2a-e664-c0128bc7d56b"
      },
      "execution_count": null,
      "outputs": [
        {
          "output_type": "execute_result",
          "data": {
            "text/plain": [
              "'dense and silky'"
            ],
            "application/vnd.google.colaboratory.intrinsic+json": {
              "type": "string"
            }
          },
          "metadata": {},
          "execution_count": 41
        }
      ]
    },
    {
      "cell_type": "code",
      "source": [
        "me.nose()"
      ],
      "metadata": {
        "colab": {
          "base_uri": "https://localhost:8080/",
          "height": 35
        },
        "id": "ogDLQRrEVDcs",
        "outputId": "74c9e864-0917-4160-f7ce-c6b571c1f9e1"
      },
      "execution_count": null,
      "outputs": [
        {
          "output_type": "execute_result",
          "data": {
            "text/plain": [
              "'inherited'"
            ],
            "application/vnd.google.colaboratory.intrinsic+json": {
              "type": "string"
            }
          },
          "metadata": {},
          "execution_count": 42
        }
      ]
    },
    {
      "cell_type": "code",
      "source": [
        "# multiple inheritance\n",
        "\n",
        "class mother():                       #parent/super class\n",
        "  def nose(self):\n",
        "    return \"inherited\"\n",
        "\n",
        "class father():                       #parent/super class\n",
        "  def hair(self):\n",
        "    return \"dense and silky\"\n",
        "\n",
        "class daughter():                     #parent/super class\n",
        "  def nature(self):\n",
        "    return \"porumai\"\n",
        "\n",
        "class son(mother,father,daughter):  #child/sub class\n",
        "  pass\n"
      ],
      "metadata": {
        "id": "07XkAcfzWXsl"
      },
      "execution_count": null,
      "outputs": []
    },
    {
      "cell_type": "code",
      "source": [
        "me=son()\n",
        "me.nature()\n",
        "\n"
      ],
      "metadata": {
        "colab": {
          "base_uri": "https://localhost:8080/",
          "height": 35
        },
        "id": "jpu6VMekWo7-",
        "outputId": "d79a93cf-0a7b-4411-ed73-85f03001bffb"
      },
      "execution_count": null,
      "outputs": [
        {
          "output_type": "execute_result",
          "data": {
            "text/plain": [
              "'dense and silky'"
            ],
            "application/vnd.google.colaboratory.intrinsic+json": {
              "type": "string"
            }
          },
          "metadata": {},
          "execution_count": 53
        }
      ]
    },
    {
      "cell_type": "code",
      "source": [
        "me.nose()\n"
      ],
      "metadata": {
        "colab": {
          "base_uri": "https://localhost:8080/",
          "height": 35
        },
        "id": "PNzgaxkoX_pr",
        "outputId": "79c520dd-abe0-4eea-e456-85788a4a6763"
      },
      "execution_count": null,
      "outputs": [
        {
          "output_type": "execute_result",
          "data": {
            "text/plain": [
              "'inherited'"
            ],
            "application/vnd.google.colaboratory.intrinsic+json": {
              "type": "string"
            }
          },
          "metadata": {},
          "execution_count": 54
        }
      ]
    },
    {
      "cell_type": "code",
      "source": [
        "me.hair()"
      ],
      "metadata": {
        "colab": {
          "base_uri": "https://localhost:8080/",
          "height": 35
        },
        "id": "Er61gC09YBA5",
        "outputId": "864b473a-55f0-4409-b5c2-da25fa633fbb"
      },
      "execution_count": null,
      "outputs": [
        {
          "output_type": "execute_result",
          "data": {
            "text/plain": [
              "'dense and silky'"
            ],
            "application/vnd.google.colaboratory.intrinsic+json": {
              "type": "string"
            }
          },
          "metadata": {},
          "execution_count": 55
        }
      ]
    },
    {
      "cell_type": "code",
      "source": [
        "# multilevel inheritance\n",
        "\n",
        "class mother():                       #parent/super class\n",
        "  def nose(self):\n",
        "    return \"inherited\"\n",
        "\n",
        "class father():                       #parent/super class\n",
        "  def hair(self):\n",
        "    return \"dense and silky\"\n",
        "\n",
        "class daughter():                     #parent/super class\n",
        "  def nature(self):\n",
        "    return \"porumai\"\n",
        "\n",
        "\n",
        "\n",
        "class son(mother,father,daughter):    #child/sub class\n",
        "  def nose(self):                     # polymorphism added\n",
        "    return \"good\"\n",
        "\n",
        "class granddaughter(son):\n",
        "  def beautiful(self):\n",
        "    return \"yes\""
      ],
      "metadata": {
        "id": "pmJHAQazYFBG"
      },
      "execution_count": null,
      "outputs": []
    },
    {
      "cell_type": "code",
      "source": [
        "me=granddaughter()\n",
        "me.beautiful()"
      ],
      "metadata": {
        "colab": {
          "base_uri": "https://localhost:8080/",
          "height": 35
        },
        "id": "mstD0OVrYT6w",
        "outputId": "0c71c507-a696-40bd-e731-26592b13ac77"
      },
      "execution_count": null,
      "outputs": [
        {
          "output_type": "execute_result",
          "data": {
            "text/plain": [
              "'yes'"
            ],
            "application/vnd.google.colaboratory.intrinsic+json": {
              "type": "string"
            }
          },
          "metadata": {},
          "execution_count": 2
        }
      ]
    },
    {
      "cell_type": "code",
      "source": [
        "me.nose()"
      ],
      "metadata": {
        "colab": {
          "base_uri": "https://localhost:8080/",
          "height": 35
        },
        "id": "kZT27jnXdw_k",
        "outputId": "e86e48c2-31e2-40d1-8e64-73cdbaa0c59e"
      },
      "execution_count": null,
      "outputs": [
        {
          "output_type": "execute_result",
          "data": {
            "text/plain": [
              "'good'"
            ],
            "application/vnd.google.colaboratory.intrinsic+json": {
              "type": "string"
            }
          },
          "metadata": {},
          "execution_count": 3
        }
      ]
    },
    {
      "cell_type": "code",
      "source": [
        "# Hybrid Inheritance\n",
        "\n",
        "class mother():             # Parent class\n",
        "  def nose(self):\n",
        "    return \"inherited\"\n",
        "\n",
        "class father():             # Parent class\n",
        "  def hair(self):\n",
        "    return \"dense and silky\"\n",
        "\n",
        "class daughter(mother):     # Inherits from mother\n",
        "  def nature(self):\n",
        "    return \"porumai\"\n",
        "\n",
        "\n",
        "class son(daughter, father):  # Inherits from both daughter and father\n",
        "  def nose(self):             # Polymorphism\n",
        "    return \"sharp\"\n",
        "\n",
        "class granddaughter(son):     # Inherits from son\n",
        "  def beautiful(self):\n",
        "    return \"yes\""
      ],
      "metadata": {
        "id": "fkquzSe-Osp4"
      },
      "execution_count": null,
      "outputs": []
    },
    {
      "cell_type": "code",
      "source": [
        "me=granddaughter()\n",
        "me.nose()"
      ],
      "metadata": {
        "colab": {
          "base_uri": "https://localhost:8080/",
          "height": 35
        },
        "id": "eAIKQP1WO6yw",
        "outputId": "b88b716a-b9ed-4976-a2a3-bcb3f67373d7"
      },
      "execution_count": null,
      "outputs": [
        {
          "output_type": "execute_result",
          "data": {
            "text/plain": [
              "'sharp'"
            ],
            "application/vnd.google.colaboratory.intrinsic+json": {
              "type": "string"
            }
          },
          "metadata": {},
          "execution_count": 8
        }
      ]
    },
    {
      "cell_type": "code",
      "source": [
        "\n",
        "me.hair()"
      ],
      "metadata": {
        "colab": {
          "base_uri": "https://localhost:8080/",
          "height": 35
        },
        "id": "3boNSnJiO-He",
        "outputId": "014a23a7-1b7b-418e-95da-9a82c0064c0d"
      },
      "execution_count": null,
      "outputs": [
        {
          "output_type": "execute_result",
          "data": {
            "text/plain": [
              "'dense and silky'"
            ],
            "application/vnd.google.colaboratory.intrinsic+json": {
              "type": "string"
            }
          },
          "metadata": {},
          "execution_count": 9
        }
      ]
    },
    {
      "cell_type": "code",
      "source": [
        "# Hierarchical Inheritance\n",
        "\n",
        "class mother():  # Inherits from Parent\n",
        "  def hair(self):\n",
        "    return \"dense and silky\"\n",
        "\n",
        "class Daughter(mother):  # Inherits from mother\n",
        "  def nature(self):\n",
        "    return \"Porumai\"\n",
        "\n",
        "class son(mother):\n",
        "  def quality(self):\n",
        "    return \"caring\"\n",
        "\n",
        "class Granddaughter(son):  # Inherits from Daughter (Extended Hierarchy)\n",
        "    def beautiful(self):\n",
        "        return \"yes\""
      ],
      "metadata": {
        "id": "eLo5rF-4PNtU"
      },
      "execution_count": null,
      "outputs": []
    },
    {
      "cell_type": "code",
      "source": [
        "me=Granddaughter()\n",
        "me.beautiful()\n"
      ],
      "metadata": {
        "colab": {
          "base_uri": "https://localhost:8080/",
          "height": 35
        },
        "id": "vSJW22dBQzgT",
        "outputId": "46a9793d-c641-4e6a-8ab4-974c347bbb7d"
      },
      "execution_count": null,
      "outputs": [
        {
          "output_type": "execute_result",
          "data": {
            "text/plain": [
              "'yes'"
            ],
            "application/vnd.google.colaboratory.intrinsic+json": {
              "type": "string"
            }
          },
          "metadata": {},
          "execution_count": 12
        }
      ]
    },
    {
      "cell_type": "code",
      "source": [
        "me.hair()"
      ],
      "metadata": {
        "colab": {
          "base_uri": "https://localhost:8080/",
          "height": 35
        },
        "id": "kmy9sTb3Q4se",
        "outputId": "0dd66f1b-4013-4468-a3e6-2b68fdf9cc88"
      },
      "execution_count": null,
      "outputs": [
        {
          "output_type": "execute_result",
          "data": {
            "text/plain": [
              "'dense and silky'"
            ],
            "application/vnd.google.colaboratory.intrinsic+json": {
              "type": "string"
            }
          },
          "metadata": {},
          "execution_count": 14
        }
      ]
    }
  ]
}