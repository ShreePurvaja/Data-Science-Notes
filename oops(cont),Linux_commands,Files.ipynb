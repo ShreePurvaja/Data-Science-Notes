{
  "nbformat": 4,
  "nbformat_minor": 0,
  "metadata": {
    "colab": {
      "provenance": [],
      "mount_file_id": "1RLjSA3jqOSm1S2dV-15J9v4qFd1g6Yad",
      "authorship_tag": "ABX9TyM77Kc2fsecV5bpIY/pTBL0",
      "include_colab_link": true
    },
    "kernelspec": {
      "name": "python3",
      "display_name": "Python 3"
    },
    "language_info": {
      "name": "python"
    }
  },
  "cells": [
    {
      "cell_type": "markdown",
      "metadata": {
        "id": "view-in-github",
        "colab_type": "text"
      },
      "source": [
        "<a href=\"https://colab.research.google.com/github/ShreePurvaja/Data-Science-Notes/blob/main/oops(cont)%2CLinux_commands%2CFiles.ipynb\" target=\"_parent\"><img src=\"https://colab.research.google.com/assets/colab-badge.svg\" alt=\"Open In Colab\"/></a>"
      ]
    },
    {
      "cell_type": "markdown",
      "source": [
        "# 05.02.2025"
      ],
      "metadata": {
        "id": "77vkxEXSRFrv"
      }
    },
    {
      "cell_type": "code",
      "execution_count": null,
      "metadata": {
        "id": "RrCdqxvERE_t"
      },
      "outputs": [],
      "source": [
        "# Abstraction and Encapsulation\n",
        "\n",
        "class bank():\n",
        "  def __init__(self,name,acc,balance):\n",
        "    self.name=name\n",
        "    self.acc=acc\n",
        "    self.__balance=balance\n",
        "\n",
        "  def deposit(self,amount):\n",
        "    self.__balance=self.__balance+amount\n",
        "    return self.__balance\n",
        "\n",
        "  def withdraw(self,amount):\n",
        "    self.__balance=self.__balance-amount\n",
        "    return self.__balance\n",
        "\n",
        "  def checkbalance(self):\n",
        "    return self.__balance\n",
        "\n",
        "shree=bank(\"Purvaja\",\"1234\",5000)\n",
        "purvaja=bank(\"Purvaja\",\"1234\",10000)\n",
        "gowtham=bank(\"Gowtham\",\"1234\",15000)"
      ]
    },
    {
      "cell_type": "code",
      "source": [
        "\n",
        "print(shree.deposit(1000))\n",
        "print(shree.withdraw(2000))\n",
        "print(shree.checkbalance())"
      ],
      "metadata": {
        "colab": {
          "base_uri": "https://localhost:8080/"
        },
        "id": "6b8_PnxGRnNb",
        "outputId": "6af472ea-2ba2-4d19-a984-c2a57e303a8c"
      },
      "execution_count": null,
      "outputs": [
        {
          "output_type": "stream",
          "name": "stdout",
          "text": [
            "6000\n",
            "4000\n",
            "4000\n"
          ]
        }
      ]
    },
    {
      "cell_type": "code",
      "source": [
        "\n",
        "print(purvaja.deposit(7000))\n",
        "print(purvaja.withdraw(2000))\n",
        "print(purvaja.checkbalance())"
      ],
      "metadata": {
        "colab": {
          "base_uri": "https://localhost:8080/"
        },
        "id": "TNFIW-mXSD-X",
        "outputId": "4c2b3955-f868-4b66-d1de-c28ada36dfa6"
      },
      "execution_count": null,
      "outputs": [
        {
          "output_type": "stream",
          "name": "stdout",
          "text": [
            "17000\n",
            "15000\n",
            "15000\n"
          ]
        }
      ]
    },
    {
      "cell_type": "code",
      "source": [
        "\n",
        "print(gowtham.deposit(9000))\n",
        "print(gowtham.withdraw(3000))\n",
        "print(gowtham.checkbalance())\n"
      ],
      "metadata": {
        "colab": {
          "base_uri": "https://localhost:8080/"
        },
        "id": "cUVgVw_7ST8W",
        "outputId": "31bc6b3c-1ef3-4636-c364-5a2ebcf3b070"
      },
      "execution_count": null,
      "outputs": [
        {
          "output_type": "stream",
          "name": "stdout",
          "text": [
            "24000\n",
            "21000\n",
            "21000\n"
          ]
        }
      ]
    },
    {
      "cell_type": "code",
      "source": [
        "shree.__balance=1   # balance is a private variable so we can't access it outside the class"
      ],
      "metadata": {
        "id": "J4zXfa8jSdpu"
      },
      "execution_count": null,
      "outputs": []
    },
    {
      "cell_type": "code",
      "source": [
        "#linux commands\n",
        "\n",
        "!date                   # primary time standard used around the world\n",
        "\n",
        "!TZ=Asia/Kolkata date   # Indian Standard Time\n"
      ],
      "metadata": {
        "colab": {
          "base_uri": "https://localhost:8080/"
        },
        "id": "bT4BmSdLU-KD",
        "outputId": "708d2b90-a6d5-4d2c-a4e9-830e3dffb1ab"
      },
      "execution_count": null,
      "outputs": [
        {
          "output_type": "stream",
          "name": "stdout",
          "text": [
            "Wed Feb  5 01:48:51 PM UTC 2025\n",
            "Wed Feb  5 07:18:51 PM IST 2025\n"
          ]
        }
      ]
    },
    {
      "cell_type": "code",
      "source": [
        "!mkdir purvaja    #create a directory\n",
        "!mkdir shree\n",
        "\n",
        "!rmdir shree    #remove a directory\n",
        "!rmdir purvaja"
      ],
      "metadata": {
        "id": "61xH5TbkXBpI"
      },
      "execution_count": null,
      "outputs": []
    },
    {
      "cell_type": "code",
      "source": [
        "import os         #python os module\n",
        "\n",
        "os.mkdir(\"classy\")  #create a directory\n",
        "os.rmdir(\"classy\")   #remove a directory\n",
        "os.rename(\"classy\",\"kuttyClassy\")  #rename a directory\n",
        "os.rmdir(\"kutty classy\")"
      ],
      "metadata": {
        "id": "NPMlrjTUYgaV"
      },
      "execution_count": null,
      "outputs": []
    },
    {
      "cell_type": "code",
      "source": [
        "import os     #deleted a folder in my drive(after mounting the drive)\n",
        "os.rmdir(\"/content/drive/MyDrive/guvi_class_sample\")"
      ],
      "metadata": {
        "id": "ajJkjwipZkQn"
      },
      "execution_count": null,
      "outputs": []
    },
    {
      "cell_type": "code",
      "source": [
        "a=open(\"DS_Zen.txt\",\"w\")   #create a file in write mode\n",
        "\n",
        "#will overwrite the file even if same file exists\n",
        "\n",
        "\n"
      ],
      "metadata": {
        "id": "VHuWzjbtcgUR"
      },
      "execution_count": null,
      "outputs": []
    },
    {
      "cell_type": "code",
      "source": [
        "open(\"Zen.txt\",\"x\") #create a file in exclusive mode\n",
        "\n",
        "# x access will look whether the file aldready exist or not(will not\n",
        "\n",
        "# x only for creation and not for writing or appending"
      ],
      "metadata": {
        "colab": {
          "base_uri": "https://localhost:8080/"
        },
        "id": "Vf02N96vdpFi",
        "outputId": "9ffdba5f-d0c0-43ac-8c83-e781a2ce9534"
      },
      "execution_count": null,
      "outputs": [
        {
          "output_type": "execute_result",
          "data": {
            "text/plain": [
              "<_io.TextIOWrapper name='Zen.txt' mode='x' encoding='UTF-8'>"
            ]
          },
          "metadata": {},
          "execution_count": 64
        }
      ]
    },
    {
      "cell_type": "code",
      "source": [
        "a.write(\"Heyy all this is Purvaja\")\n",
        "a.close()"
      ],
      "metadata": {
        "id": "wVfs8RfTe_UD"
      },
      "execution_count": null,
      "outputs": []
    },
    {
      "cell_type": "code",
      "source": [
        "b=open(\"DS_Zen.txt\",\"a\")   #create a file in append mode\n",
        "\n",
        "b.write(\"\\nI have added one more text in this \")\n",
        "\n"
      ],
      "metadata": {
        "colab": {
          "base_uri": "https://localhost:8080/"
        },
        "id": "X2t_pZpJffNo",
        "outputId": "f8c2a23e-5ab4-4d73-baea-7dd9d8f9d023"
      },
      "execution_count": null,
      "outputs": [
        {
          "output_type": "execute_result",
          "data": {
            "text/plain": [
              "36"
            ]
          },
          "metadata": {},
          "execution_count": 103
        }
      ]
    },
    {
      "cell_type": "code",
      "source": [
        "# for loop or write lines (input in list)\n",
        "\n",
        "c=[\"first\",\"second\",\"third\"]\n",
        "\n",
        "b.writelines(c)\n",
        "\n",
        "b.close()"
      ],
      "metadata": {
        "id": "p13dKNe5g88c"
      },
      "execution_count": null,
      "outputs": []
    },
    {
      "cell_type": "code",
      "source": [
        "#with open\n",
        "\n",
        "with open(\"DS_Zen.txt\",\"r\") as f:\n",
        "  print(f.read())"
      ],
      "metadata": {
        "colab": {
          "base_uri": "https://localhost:8080/"
        },
        "id": "pGa5tQewiFNq",
        "outputId": "94482ece-123b-455f-ea3c-3d8bc91f1440"
      },
      "execution_count": null,
      "outputs": [
        {
          "output_type": "stream",
          "name": "stdout",
          "text": [
            "Heyy all this is Purvaja\n",
            "I have added one more text in this \n",
            "I have added one more text in this firstsecondthird\n"
          ]
        }
      ]
    },
    {
      "cell_type": "markdown",
      "source": [
        "read binary and write binary are for other forms of data except python"
      ],
      "metadata": {
        "id": "ExzTCTR1jjEm"
      }
    },
    {
      "cell_type": "code",
      "source": [
        "#pip - for installing python packages\n",
        "\n",
        "!pip install pandas"
      ],
      "metadata": {
        "colab": {
          "base_uri": "https://localhost:8080/"
        },
        "id": "Uq4Q3rzNjVs4",
        "outputId": "3d5a8feb-b5cf-41c4-cec3-77e3645e589e"
      },
      "execution_count": null,
      "outputs": [
        {
          "output_type": "stream",
          "name": "stdout",
          "text": [
            "Requirement already satisfied: pandas in /usr/local/lib/python3.11/dist-packages (2.2.2)\n",
            "Requirement already satisfied: numpy>=1.23.2 in /usr/local/lib/python3.11/dist-packages (from pandas) (1.26.4)\n",
            "Requirement already satisfied: python-dateutil>=2.8.2 in /usr/local/lib/python3.11/dist-packages (from pandas) (2.8.2)\n",
            "Requirement already satisfied: pytz>=2020.1 in /usr/local/lib/python3.11/dist-packages (from pandas) (2024.2)\n",
            "Requirement already satisfied: tzdata>=2022.7 in /usr/local/lib/python3.11/dist-packages (from pandas) (2025.1)\n",
            "Requirement already satisfied: six>=1.5 in /usr/local/lib/python3.11/dist-packages (from python-dateutil>=2.8.2->pandas) (1.17.0)\n"
          ]
        }
      ]
    },
    {
      "cell_type": "code",
      "source": [
        "!pip freeze > requirements.txt          # to create a requirements file  # to see the installed packages\n",
        "\n",
        "# pip uninstall <package_name>          # to uninstall a package\n",
        "\n",
        "#pip install --upgrade <package_name>   # To upgrade an installed package\n",
        "\n",
        "#pip list                               # To list all installed packages"
      ],
      "metadata": {
        "id": "CZkH9jjZjtOu"
      },
      "execution_count": null,
      "outputs": []
    },
    {
      "cell_type": "code",
      "source": [
        "#zip and enumerate\n",
        "\n",
        "a=[\"a\",\"b\",\"c\"]\n",
        "\n",
        "b=[1,2,3]\n",
        "\n",
        "c=zip(a,b)\n",
        "\n",
        "# print(list(c)) #once if it is printed the values will be del so acces the print in any one place\n",
        "\n"
      ],
      "metadata": {
        "id": "g93yzG3zkFZq"
      },
      "execution_count": null,
      "outputs": []
    },
    {
      "cell_type": "code",
      "source": [
        "for a,b in c:\n",
        "  print(a,b)"
      ],
      "metadata": {
        "colab": {
          "base_uri": "https://localhost:8080/"
        },
        "id": "ntIz_iU4m_Di",
        "outputId": "9bcf081f-1b25-410e-e54a-ac5d54ec8d92"
      },
      "execution_count": null,
      "outputs": [
        {
          "output_type": "stream",
          "name": "stdout",
          "text": [
            "a 1\n",
            "b 2\n",
            "c 3\n"
          ]
        }
      ]
    },
    {
      "cell_type": "code",
      "source": [
        "a=[\"rajini\",\"kamal\",'alia']   # used for class Task 1\n",
        "b=[\"kanth\",\"hassan\",\"bhatt\"]\n",
        "c=zip(a,b)\n",
        "\n",
        "for a,b in c:\n",
        "  print(a,b)                  #use zip only when required"
      ],
      "metadata": {
        "colab": {
          "base_uri": "https://localhost:8080/"
        },
        "id": "mBBSXXnuncu2",
        "outputId": "08942abb-edc8-4f31-f5cf-65a987be23fc"
      },
      "execution_count": null,
      "outputs": [
        {
          "output_type": "stream",
          "name": "stdout",
          "text": [
            "rajini kanth\n",
            "kamal hassan\n",
            "alia bhatt\n"
          ]
        }
      ]
    },
    {
      "cell_type": "code",
      "source": [
        "#enumerate    (en numerate)             # assigns numerical value to keep in track of the values\n",
        "\n",
        "a=[\"a\",\"b\",\"c\"]\n",
        "\n",
        "for i,j in enumerate(a):\n",
        "  print(i,j)\n"
      ],
      "metadata": {
        "colab": {
          "base_uri": "https://localhost:8080/"
        },
        "id": "h1EnTvlFoLFO",
        "outputId": "338a77d5-20d4-42b5-8558-f0a0090c727a"
      },
      "execution_count": null,
      "outputs": [
        {
          "output_type": "stream",
          "name": "stdout",
          "text": [
            "0 a\n",
            "1 b\n",
            "2 c\n"
          ]
        }
      ]
    },
    {
      "cell_type": "code",
      "source": [
        "for a,b in enumerate(a,10):       #usually prints as tuple if given with single value\n",
        "  print(a,b)"
      ],
      "metadata": {
        "colab": {
          "base_uri": "https://localhost:8080/"
        },
        "id": "8W67UrVEok1D",
        "outputId": "b36fff64-f791-4918-cfda-0d448552bbfd"
      },
      "execution_count": null,
      "outputs": [
        {
          "output_type": "stream",
          "name": "stdout",
          "text": [
            "10 a\n",
            "11 b\n",
            "12 c\n"
          ]
        }
      ]
    }
  ]
}