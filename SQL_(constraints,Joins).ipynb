{
  "nbformat": 4,
  "nbformat_minor": 0,
  "metadata": {
    "colab": {
      "provenance": [],
      "authorship_tag": "ABX9TyM5ZPuPgINoWEhSnsKCA20Y",
      "include_colab_link": true
    },
    "kernelspec": {
      "name": "python3",
      "display_name": "Python 3"
    },
    "language_info": {
      "name": "python"
    }
  },
  "cells": [
    {
      "cell_type": "markdown",
      "metadata": {
        "id": "view-in-github",
        "colab_type": "text"
      },
      "source": [
        "<a href=\"https://colab.research.google.com/github/ShreePurvaja/Data-Science-Notes/blob/main/SQL_(constraints%2CJoins).ipynb\" target=\"_parent\"><img src=\"https://colab.research.google.com/assets/colab-badge.svg\" alt=\"Open In Colab\"/></a>"
      ]
    },
    {
      "cell_type": "markdown",
      "source": [
        "# 24.02.2025"
      ],
      "metadata": {
        "id": "c_xv47p4Hc8f"
      }
    },
    {
      "cell_type": "code",
      "execution_count": 1,
      "metadata": {
        "colab": {
          "base_uri": "https://localhost:8080/"
        },
        "id": "-EE10gHCHO5i",
        "outputId": "e0136bb8-4a80-49de-9d39-eedd7b746ece"
      },
      "outputs": [
        {
          "output_type": "stream",
          "name": "stdout",
          "text": [
            "Collecting mysql-connector-python\n",
            "  Downloading mysql_connector_python-9.2.0-cp311-cp311-manylinux_2_28_x86_64.whl.metadata (6.0 kB)\n",
            "Downloading mysql_connector_python-9.2.0-cp311-cp311-manylinux_2_28_x86_64.whl (34.0 MB)\n",
            "\u001b[2K   \u001b[90m━━━━━━━━━━━━━━━━━━━━━━━━━━━━━━━━━━━━━━━━\u001b[0m \u001b[32m34.0/34.0 MB\u001b[0m \u001b[31m9.8 MB/s\u001b[0m eta \u001b[36m0:00:00\u001b[0m\n",
            "\u001b[?25hInstalling collected packages: mysql-connector-python\n",
            "Successfully installed mysql-connector-python-9.2.0\n"
          ]
        }
      ],
      "source": [
        "!pip install mysql-connector-python"
      ]
    },
    {
      "cell_type": "code",
      "source": [
        "import mysql.connector\n",
        "\n",
        "connection = mysql.connector.connect(\n",
        "  host = \"gateway01.ap-southeast-1.prod.aws.tidbcloud.com\",\n",
        "  port = 4000,\n",
        "  user = \"2yYzWuNLpsRGRUo.root\",\n",
        "  password = \"LziV3VzKcgY6K7lq\",\n",
        "  database = \"purvaja\",\n",
        ")\n",
        "\n",
        "mycursor = connection.cursor()"
      ],
      "metadata": {
        "id": "tQuc-WpcHvNN"
      },
      "execution_count": 44,
      "outputs": []
    },
    {
      "cell_type": "code",
      "source": [
        "!pip install tabulate     # gives the table format for the data"
      ],
      "metadata": {
        "colab": {
          "base_uri": "https://localhost:8080/"
        },
        "id": "sqQHdRXYHx1U",
        "outputId": "e3a27a4c-0b18-4a4a-c0ea-8aca17f66044"
      },
      "execution_count": 3,
      "outputs": [
        {
          "output_type": "stream",
          "name": "stdout",
          "text": [
            "Requirement already satisfied: tabulate in /usr/local/lib/python3.11/dist-packages (0.9.0)\n"
          ]
        }
      ]
    },
    {
      "cell_type": "code",
      "source": [
        "#primarykey - not null + unique\n",
        "#foreignkey - referenced from another table\n",
        "\n",
        "#Basic property of Database\n",
        "#ACID - Atomicity, Consistency, Isolation, Durability\n",
        "# Automacity - all the operations should be atomic\n",
        "# Consistency - all the operations should be consistent\n",
        "# Isolation - all the operations should be isolated\n",
        "# Durability - all the operations should be durable"
      ],
      "metadata": {
        "id": "h4sVqzEUH2qF"
      },
      "execution_count": null,
      "outputs": []
    },
    {
      "cell_type": "code",
      "source": [
        "mycursor.execute(\"CREATE TABLE guvi3.aadhardetails (name VARCHAR(30),ADDRESS VARCHAR(20),AADHARID INTEGER PRIMARY KEY)\")\n"
      ],
      "metadata": {
        "id": "eB3ZgDEWIgu6"
      },
      "execution_count": 6,
      "outputs": []
    },
    {
      "cell_type": "code",
      "source": [
        "mycursor.execute(\"INSERT INTO guvi3.aadhardetails (name,address,aadharid) VALUES('Gowtham','Coimbatore',212606)\")\n",
        "connection.commit()"
      ],
      "metadata": {
        "id": "8yUtSVHrJTay"
      },
      "execution_count": 16,
      "outputs": []
    },
    {
      "cell_type": "code",
      "source": [
        "mycursor.execute(\"CREATE TABLE guvi3.bankacc(name VARCHAR(20),type VARCHAR(2),accno INT PRIMARY KEY,aadhar INT ,FOREIGN KEY (aadhar)REFERENCES aadhardetails(aadharid))\")\n"
      ],
      "metadata": {
        "id": "yEUNZvhXKHLF"
      },
      "execution_count": 9,
      "outputs": []
    },
    {
      "cell_type": "code",
      "source": [
        "mycursor.execute(\"INSERT INTO guvi3.bankacc (name,type,accno,aadhar) VALUES('Purvaja','FD',1138,212606)\")\n",
        "connection.commit()"
      ],
      "metadata": {
        "collapsed": true,
        "id": "oDPRhIlaLSYW"
      },
      "execution_count": 17,
      "outputs": []
    },
    {
      "cell_type": "code",
      "source": [
        "mycursor.execute(\"select * from test.employees\")\n",
        "out=mycursor.fetchall()   # fetching all the data\n",
        "from tabulate import tabulate\n",
        "print(tabulate(out,headers=[i[0] for i in mycursor.description],  tablefmt='psql'))   # psql is like"
      ],
      "metadata": {
        "colab": {
          "base_uri": "https://localhost:8080/"
        },
        "id": "-fp8DhV2N1Ae",
        "outputId": "1e66404d-d241-4e4d-fe9e-3835ca008eba"
      },
      "execution_count": 19,
      "outputs": [
        {
          "output_type": "stream",
          "name": "stdout",
          "text": [
            "+----------+--------------+-------------+-----------------+----------+\n",
            "|   emp_id | first_name   | last_name   |   department_id |   salary |\n",
            "|----------+--------------+-------------+-----------------+----------|\n",
            "|        1 | John         | Smith       |               1 |    50000 |\n",
            "|        2 | Sarah        | Johnson     |               2 |    62000 |\n",
            "|        3 | Michael      | Brown       |               1 |    55000 |\n",
            "|        4 | Emily        | Davis       |               3 |    48000 |\n",
            "|        5 | David        | Wilson      |               2 |    61000 |\n",
            "|        6 | Lisa         | Anderson    |               4 |    53000 |\n",
            "|        7 | James        | Taylor      |               1 |    54000 |\n",
            "|        8 | Emma         | Martinez    |               2 |    59000 |\n",
            "|        9 | Daniel       | Thomas      |               3 |    51000 |\n",
            "|       10 | Jessica      | Garcia      |               5 |    57000 |\n",
            "+----------+--------------+-------------+-----------------+----------+\n"
          ]
        }
      ]
    },
    {
      "cell_type": "code",
      "source": [
        "mycursor.execute(\"select * from test.departments\")\n",
        "out=mycursor.fetchall()   # fetching all the data\n",
        "from tabulate import tabulate\n",
        "print(tabulate(out,headers=[i[0] for i in mycursor.description],  tablefmt='psql'))   # psql is like"
      ],
      "metadata": {
        "colab": {
          "base_uri": "https://localhost:8080/"
        },
        "id": "MB-4_dtQTb8r",
        "outputId": "769e960c-0ec8-417e-b47c-5f32e5afa04c"
      },
      "execution_count": 20,
      "outputs": [
        {
          "output_type": "stream",
          "name": "stdout",
          "text": [
            "+-----------------+-------------------+---------------+----------+\n",
            "|   department_id | department_name   | location      |   budget |\n",
            "|-----------------+-------------------+---------------+----------|\n",
            "|               1 | IT                | New York      |   500000 |\n",
            "|               2 | Marketing         | Los Angeles   |   400000 |\n",
            "|               3 | Finance           | Chicago       |   450000 |\n",
            "|               4 | HR                | Boston        |   300000 |\n",
            "|               5 | Sales             | Miami         |   550000 |\n",
            "|               6 | Research          | Seattle       |   600000 |\n",
            "|               7 | Operations        | Denver        |   350000 |\n",
            "|               8 | Legal             | Washington DC |   425000 |\n",
            "|               9 | Support           | Austin        |   275000 |\n",
            "|              10 | Development       | San Francisco |   700000 |\n",
            "+-----------------+-------------------+---------------+----------+\n"
          ]
        }
      ]
    },
    {
      "cell_type": "code",
      "source": [
        "mycursor.execute(\"select * from test.projects\")\n",
        "out=mycursor.fetchall()   # fetching all the data\n",
        "from tabulate import tabulate\n",
        "print(tabulate(out,headers=[i[0] for i in mycursor.description],  tablefmt='psql'))   # psql is like"
      ],
      "metadata": {
        "colab": {
          "base_uri": "https://localhost:8080/"
        },
        "id": "k4nBu_QHTfOv",
        "outputId": "b2ed82e1-ab6a-480a-d094-c043001cb87e"
      },
      "execution_count": 24,
      "outputs": [
        {
          "output_type": "stream",
          "name": "stdout",
          "text": [
            "+--------------+--------------------+----------+--------------+-------------+\n",
            "|   project_id | project_name       |   emp_id | start_date   | status      |\n",
            "|--------------+--------------------+----------+--------------+-------------|\n",
            "|            1 | Website Redesign   |        1 | 2024-01-15   | In Progress |\n",
            "|            2 | Mobile App         |        2 | 2024-02-01   | Planning    |\n",
            "|            3 | Database Migration |        3 | 2024-01-10   | Completed   |\n",
            "|            4 | Security Audit     |        4 | 2024-03-01   | In Progress |\n",
            "|            5 | Cloud Migration    |        1 | 2024-02-15   | Planning    |\n",
            "|            6 | AI Implementation  |        5 | 2024-01-20   | On Hold     |\n",
            "|            7 | CRM Update         |        7 | 2024-02-10   | In Progress |\n",
            "|            8 | Network Upgrade    |        8 | 2024-03-05   | Planning    |\n",
            "|            9 | Data Analytics     |        9 | 2024-01-05   | Completed   |\n",
            "|           10 | DevOps Pipeline    |        3 | 2024-02-20   | In Progress |\n",
            "+--------------+--------------------+----------+--------------+-------------+\n"
          ]
        }
      ]
    },
    {
      "cell_type": "code",
      "source": [
        "#Right Join - returns all the data from the right table\n",
        "\n",
        "mycursor.execute(\"\"\"SELECT e.first_name,e.last_name,d.department_name,d.department_id\n",
        "FROM test.employees e\n",
        "right JOIN test.departments d ON e.department_id=d.department_id\"\"\")\n",
        "out=mycursor.fetchall()   # fetching all the data\n",
        "from tabulate import tabulate\n",
        "print(tabulate(out,headers=[i[0] for i in mycursor.description],  tablefmt='psql'))   # psql is like"
      ],
      "metadata": {
        "colab": {
          "base_uri": "https://localhost:8080/"
        },
        "id": "px8WSIOeT-fH",
        "outputId": "d3373b22-82f5-4cc7-f97b-f4ad37f7e417"
      },
      "execution_count": 25,
      "outputs": [
        {
          "output_type": "stream",
          "name": "stdout",
          "text": [
            "+--------------+-------------+-------------------+-----------------+\n",
            "| first_name   | last_name   | department_name   |   department_id |\n",
            "|--------------+-------------+-------------------+-----------------|\n",
            "| John         | Smith       | IT                |               1 |\n",
            "| Sarah        | Johnson     | Marketing         |               2 |\n",
            "| Michael      | Brown       | IT                |               1 |\n",
            "| Emily        | Davis       | Finance           |               3 |\n",
            "| David        | Wilson      | Marketing         |               2 |\n",
            "| Lisa         | Anderson    | HR                |               4 |\n",
            "| James        | Taylor      | IT                |               1 |\n",
            "| Emma         | Martinez    | Marketing         |               2 |\n",
            "| Daniel       | Thomas      | Finance           |               3 |\n",
            "| Jessica      | Garcia      | Sales             |               5 |\n",
            "|              |             | Research          |               6 |\n",
            "|              |             | Operations        |               7 |\n",
            "|              |             | Legal             |               8 |\n",
            "|              |             | Support           |               9 |\n",
            "|              |             | Development       |              10 |\n",
            "+--------------+-------------+-------------------+-----------------+\n"
          ]
        }
      ]
    },
    {
      "cell_type": "code",
      "source": [
        "#left Join - returns all the data from the left table\n",
        "\n",
        "mycursor.execute(\"\"\"SELECT e.first_name,e.last_name,d.department_name,d.department_id\n",
        "FROM test.employees e\n",
        "left JOIN test.departments d ON e.department_id=d.department_id\"\"\")\n",
        "out=mycursor.fetchall()   # fetching all the data\n",
        "from tabulate import tabulate\n",
        "print(tabulate(out,headers=[i[0] for i in mycursor.description],  tablefmt='psql'))   # psql is like"
      ],
      "metadata": {
        "colab": {
          "base_uri": "https://localhost:8080/"
        },
        "id": "-IeTOM56U8F-",
        "outputId": "06da8e2f-219f-4c6f-a134-a68b859af2f5"
      },
      "execution_count": 26,
      "outputs": [
        {
          "output_type": "stream",
          "name": "stdout",
          "text": [
            "+--------------+-------------+-------------------+-----------------+\n",
            "| first_name   | last_name   | department_name   |   department_id |\n",
            "|--------------+-------------+-------------------+-----------------|\n",
            "| John         | Smith       | IT                |               1 |\n",
            "| Sarah        | Johnson     | Marketing         |               2 |\n",
            "| Michael      | Brown       | IT                |               1 |\n",
            "| Emily        | Davis       | Finance           |               3 |\n",
            "| David        | Wilson      | Marketing         |               2 |\n",
            "| Lisa         | Anderson    | HR                |               4 |\n",
            "| James        | Taylor      | IT                |               1 |\n",
            "| Emma         | Martinez    | Marketing         |               2 |\n",
            "| Daniel       | Thomas      | Finance           |               3 |\n",
            "| Jessica      | Garcia      | Sales             |               5 |\n",
            "+--------------+-------------+-------------------+-----------------+\n"
          ]
        }
      ]
    },
    {
      "cell_type": "code",
      "source": [
        "#left Join - returns all the data from the left table\n",
        "\n",
        "mycursor.execute(\"\"\"SELECT e.first_name,e.last_name,p.project_name,p.project_id\n",
        "FROM test.employees e\n",
        "left JOIN test.projects p ON e.emp_id=p.emp_id\"\"\")\n",
        "out=mycursor.fetchall()   # fetching all the data\n",
        "from tabulate import tabulate\n",
        "print(tabulate(out,headers=[i[0] for i in mycursor.description],  tablefmt='psql'))   # psql is like"
      ],
      "metadata": {
        "colab": {
          "base_uri": "https://localhost:8080/"
        },
        "id": "utHnE9jnW44p",
        "outputId": "b6d22f9d-c034-421d-b322-482feedd3c72"
      },
      "execution_count": 33,
      "outputs": [
        {
          "output_type": "stream",
          "name": "stdout",
          "text": [
            "+--------------+-------------+--------------------+--------------+\n",
            "| first_name   | last_name   | project_name       |   project_id |\n",
            "|--------------+-------------+--------------------+--------------|\n",
            "| John         | Smith       | Cloud Migration    |            5 |\n",
            "| John         | Smith       | Website Redesign   |            1 |\n",
            "| Sarah        | Johnson     | Mobile App         |            2 |\n",
            "| Michael      | Brown       | DevOps Pipeline    |           10 |\n",
            "| Michael      | Brown       | Database Migration |            3 |\n",
            "| Emily        | Davis       | Security Audit     |            4 |\n",
            "| David        | Wilson      | AI Implementation  |            6 |\n",
            "| Lisa         | Anderson    |                    |              |\n",
            "| James        | Taylor      | CRM Update         |            7 |\n",
            "| Emma         | Martinez    | Network Upgrade    |            8 |\n",
            "| Daniel       | Thomas      | Data Analytics     |            9 |\n",
            "| Jessica      | Garcia      |                    |              |\n",
            "+--------------+-------------+--------------------+--------------+\n"
          ]
        }
      ]
    },
    {
      "cell_type": "code",
      "source": [
        "#Multiple JOINs: Get employee details with both department and project information\n",
        "mycursor.execute(\"\"\" SELECT e.first_name, e.last_name, d.department_name, p.project_name, p.status\n",
        "FROM test.employees e\n",
        "INNER JOIN test.departments d ON e.department_id = d.department_id\n",
        "LEFT JOIN test.projects p ON e.emp_id = p.emp_id;\"\"\")\n",
        "out=mycursor.fetchall()   # fetching all the data\n",
        "from tabulate import tabulate\n",
        "print(tabulate(out,headers=[i[0] for i in mycursor.description],  tablefmt='psql'))   # psql is like"
      ],
      "metadata": {
        "colab": {
          "base_uri": "https://localhost:8080/"
        },
        "id": "_SyW07opYxJV",
        "outputId": "407e67cf-44da-4b72-82f4-628ac4d311a2"
      },
      "execution_count": 38,
      "outputs": [
        {
          "output_type": "stream",
          "name": "stdout",
          "text": [
            "+--------------+-------------+-------------------+--------------------+-------------+\n",
            "| first_name   | last_name   | department_name   | project_name       | status      |\n",
            "|--------------+-------------+-------------------+--------------------+-------------|\n",
            "| John         | Smith       | IT                | Cloud Migration    | Planning    |\n",
            "| John         | Smith       | IT                | Website Redesign   | In Progress |\n",
            "| Sarah        | Johnson     | Marketing         | Mobile App         | Planning    |\n",
            "| Michael      | Brown       | IT                | DevOps Pipeline    | In Progress |\n",
            "| Michael      | Brown       | IT                | Database Migration | Completed   |\n",
            "| Emily        | Davis       | Finance           | Security Audit     | In Progress |\n",
            "| David        | Wilson      | Marketing         | AI Implementation  | On Hold     |\n",
            "| Lisa         | Anderson    | HR                |                    |             |\n",
            "| James        | Taylor      | IT                | CRM Update         | In Progress |\n",
            "| Emma         | Martinez    | Marketing         | Network Upgrade    | Planning    |\n",
            "| Daniel       | Thomas      | Finance           | Data Analytics     | Completed   |\n",
            "| Jessica      | Garcia      | Sales             |                    |             |\n",
            "+--------------+-------------+-------------------+--------------------+-------------+\n"
          ]
        }
      ]
    },
    {
      "cell_type": "code",
      "source": [
        "#JOIN with GROUP BY: Count number of employees in each department\n",
        "mycursor.execute(\"\"\" SELECT d.department_name, COUNT(e.emp_id) as employee_count, AVG(e.salary) as avg_salary\n",
        "FROM test.departments d\n",
        "LEFT JOIN test.employees e ON d.department_id = e.department_id\n",
        "GROUP BY d.department_name;\"\"\")\n",
        "out=mycursor.fetchall()   # fetching all the data\n",
        "from tabulate import tabulate\n",
        "print(tabulate(out,headers=[i[0] for i in mycursor.description],  tablefmt='psql'))   # psql is like"
      ],
      "metadata": {
        "colab": {
          "base_uri": "https://localhost:8080/"
        },
        "id": "GRCsY3qLbCKg",
        "outputId": "3b458fbc-e623-4f93-b07e-62332e56a71f"
      },
      "execution_count": 46,
      "outputs": [
        {
          "output_type": "stream",
          "name": "stdout",
          "text": [
            "+-------------------+------------------+--------------+\n",
            "| department_name   |   employee_count |   avg_salary |\n",
            "|-------------------+------------------+--------------|\n",
            "| Finance           |                2 |      49500   |\n",
            "| Research          |                0 |              |\n",
            "| Operations        |                0 |              |\n",
            "| HR                |                1 |      53000   |\n",
            "| Sales             |                1 |      57000   |\n",
            "| Development       |                0 |              |\n",
            "| Legal             |                0 |              |\n",
            "| IT                |                3 |      53000   |\n",
            "| Marketing         |                3 |      60666.7 |\n",
            "| Support           |                0 |              |\n",
            "+-------------------+------------------+--------------+\n"
          ]
        }
      ]
    },
    {
      "cell_type": "code",
      "source": [
        "#update - update the data\n",
        "#set - used to set the value\n",
        "#where - used to specify the condition\n",
        "\n",
        "mycursor.execute(\"update test.employees set salary=60000 where emp_id=1\")\n",
        "connection.commit()"
      ],
      "metadata": {
        "id": "4ntWJfpFc8Mp"
      },
      "execution_count": 47,
      "outputs": []
    }
  ]
}