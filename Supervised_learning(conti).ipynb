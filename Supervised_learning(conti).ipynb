{
  "nbformat": 4,
  "nbformat_minor": 0,
  "metadata": {
    "colab": {
      "provenance": [],
      "authorship_tag": "ABX9TyPFmUu/ZY5aKZ7MEP4XPzut",
      "include_colab_link": true
    },
    "kernelspec": {
      "name": "python3",
      "display_name": "Python 3"
    },
    "language_info": {
      "name": "python"
    }
  },
  "cells": [
    {
      "cell_type": "markdown",
      "metadata": {
        "id": "view-in-github",
        "colab_type": "text"
      },
      "source": [
        "<a href=\"https://colab.research.google.com/github/ShreePurvaja/Data-Science-Notes/blob/main/Supervised_learning(conti).ipynb\" target=\"_parent\"><img src=\"https://colab.research.google.com/assets/colab-badge.svg\" alt=\"Open In Colab\"/></a>"
      ]
    },
    {
      "cell_type": "markdown",
      "source": [
        "# 10.04.2025"
      ],
      "metadata": {
        "id": "Q7_SVBCdBgdg"
      }
    },
    {
      "cell_type": "code",
      "source": [
        "from sklearn.datasets import load_iris\n",
        "from sklearn.model_selection import train_test_split, cross_val_score\n",
        "from sklearn.naive_bayes import GaussianNB\n",
        "from sklearn.metrics import classification_report, confusion_matrix\n",
        "\n",
        "# Load the Iris dataset\n",
        "iris = load_iris()\n",
        "X, y = iris.data, iris.target\n",
        "\n",
        "# Split the dataset\n",
        "X_train, X_test, y_train, y_test = train_test_split(X, y, test_size=0.3, random_state=40, stratify=y)\n",
        "\n",
        "# Apply Gaussian Naive Bayes\n",
        "model = GaussianNB()\n",
        "\n",
        "# Perform Cross-Validation\n",
        "cv_scores = cross_val_score(model, X_train, y_train, cv=5, scoring='accuracy')\n",
        "print(\"Cross-Validation Scores:\", cv_scores)\n",
        "print(\"Mean CV Accuracy:\", cv_scores.mean())\n",
        "\n",
        "# Train the model\n",
        "model.fit(X_train, y_train)\n",
        "\n",
        "# Evaluate the model\n",
        "y_pred = model.predict(X_test)\n",
        "print(\"\\nConfusion Matrix:\")\n",
        "print(confusion_matrix(y_test, y_pred))\n",
        "print(\"\\nClassification Report:\")\n",
        "print(classification_report(y_test, y_pred))\n"
      ],
      "metadata": {
        "colab": {
          "base_uri": "https://localhost:8080/"
        },
        "id": "f_YUpBbwBeZc",
        "outputId": "7b651f74-7971-43fe-c16d-05f56ecc0dca"
      },
      "execution_count": 2,
      "outputs": [
        {
          "output_type": "stream",
          "name": "stdout",
          "text": [
            "Cross-Validation Scores: [1.         1.         0.9047619  0.9047619  0.95238095]\n",
            "Mean CV Accuracy: 0.9523809523809523\n",
            "\n",
            "Confusion Matrix:\n",
            "[[15  0  0]\n",
            " [ 0 15  0]\n",
            " [ 0  2 13]]\n",
            "\n",
            "Classification Report:\n",
            "              precision    recall  f1-score   support\n",
            "\n",
            "           0       1.00      1.00      1.00        15\n",
            "           1       0.88      1.00      0.94        15\n",
            "           2       1.00      0.87      0.93        15\n",
            "\n",
            "    accuracy                           0.96        45\n",
            "   macro avg       0.96      0.96      0.96        45\n",
            "weighted avg       0.96      0.96      0.96        45\n",
            "\n"
          ]
        }
      ]
    },
    {
      "cell_type": "code",
      "source": [
        "from sklearn.datasets import load_iris\n",
        "from sklearn.model_selection import train_test_split, cross_val_score\n",
        "from sklearn.svm import SVC\n",
        "from sklearn.metrics import accuracy_score\n",
        "from sklearn.metrics import classification_report, confusion_matrix\n",
        "\n",
        "# Load the Iris dataset\n",
        "iris = load_iris()\n",
        "X, y = iris.data, iris.target\n",
        "\n",
        "# Split the dataset\n",
        "X_train, X_test, y_train, y_test = train_test_split(X, y, test_size=0.3, random_state=39, stratify=y)\n",
        "\n",
        "# Apply SVC\n",
        "model = SVC()\n",
        "\n",
        "# Perform Cross-Validation\n",
        "cv_scores = cross_val_score(model, X_train, y_train, cv=5, scoring='accuracy')\n",
        "print(\"Cross-Validation Scores:\", cv_scores)\n",
        "print(\"Mean CV Accuracy:\", cv_scores.mean())\n",
        "\n",
        "# Train the model\n",
        "model.fit(X_train, y_train)\n",
        "\n",
        "# Evaluate the model\n",
        "y_pred = model.predict(X_test)\n",
        "print(accuracy_score(y_test, y_pred))\n",
        "print(\"\\nConfusion Matrix:\")\n",
        "print(confusion_matrix(y_test, y_pred))\n",
        "print(\"\\nClassification Report:\")\n",
        "print(classification_report(y_test, y_pred))\n"
      ],
      "metadata": {
        "colab": {
          "base_uri": "https://localhost:8080/"
        },
        "id": "OO87kyEDC5m3",
        "outputId": "b2429b5b-b4e0-4700-ec6d-5f0de0d1ac95"
      },
      "execution_count": 10,
      "outputs": [
        {
          "output_type": "stream",
          "name": "stdout",
          "text": [
            "Cross-Validation Scores: [1.         1.         1.         0.95238095 0.95238095]\n",
            "Mean CV Accuracy: 0.980952380952381\n",
            "0.9777777777777777\n",
            "\n",
            "Confusion Matrix:\n",
            "[[15  0  0]\n",
            " [ 0 14  1]\n",
            " [ 0  0 15]]\n",
            "\n",
            "Classification Report:\n",
            "              precision    recall  f1-score   support\n",
            "\n",
            "           0       1.00      1.00      1.00        15\n",
            "           1       1.00      0.93      0.97        15\n",
            "           2       0.94      1.00      0.97        15\n",
            "\n",
            "    accuracy                           0.98        45\n",
            "   macro avg       0.98      0.98      0.98        45\n",
            "weighted avg       0.98      0.98      0.98        45\n",
            "\n"
          ]
        }
      ]
    },
    {
      "cell_type": "code",
      "source": [
        "import pandas as pd\n",
        "data=pd.read_csv(\"https://raw.githubusercontent.com/nethajinirmal13/Training-datasets/main/USA_Housing.csv\")\n",
        "data\n",
        "\n",
        "\n",
        "\n",
        "from sklearn.model_selection import train_test_split\n",
        "from sklearn.linear_model import LinearRegression\n",
        "\n",
        "x = data[['Avg. Area Income',\"Area Population\",'Avg. Area House Age']]\n",
        "y = data['Price']\n",
        "\n",
        "x_train,x_test,y_train,y_test = train_test_split(x,y,test_size=0.2,random_state=30)\n",
        "\n",
        "from sklearn.preprocessing import MinMaxScaler\n",
        "scaler = MinMaxScaler()\n",
        "x_train = scaler.fit_transform(x_train) #will transform with the Minmaxscalar as their reference (min & max taken from the Minmax scalar)\n",
        "x_test = scaler.transform(x_test) #will transform with reference with the training data (min  & max taken from the training data)\n",
        "\n",
        "model = LinearRegression()\n",
        "model.fit(x_train,y_train)\n",
        "print(model.coef_)\n",
        "print(model.intercept_)\n",
        "print(model.score(x_test,y_test))\n",
        "\n",
        "\n",
        "\n"
      ],
      "metadata": {
        "colab": {
          "base_uri": "https://localhost:8080/"
        },
        "id": "76vvZDEPFIPS",
        "outputId": "3149f63c-eb36-49c9-8827-090ab3a35496"
      },
      "execution_count": 11,
      "outputs": [
        {
          "output_type": "stream",
          "name": "stdout",
          "text": [
            "[1933256.47622284 1062036.93533427 1128734.72495287]\n",
            "-957645.8626958213\n",
            "0.7937876069734691\n"
          ]
        }
      ]
    },
    {
      "cell_type": "code",
      "source": [
        "df = pd.DataFrame({'Avg. Area Income':[10000],\n",
        "                   'Area Population': [46501.283803],\n",
        "                   'Avg. Area House Age':[5.90034]})\n",
        "a = scaler.transform(df)\n",
        "model.predict(a)\n"
      ],
      "metadata": {
        "colab": {
          "base_uri": "https://localhost:8080/"
        },
        "id": "EvGeI4VgGnOU",
        "outputId": "4a08a28c-9bb3-419a-8f57-bd9ff4bf11d9"
      },
      "execution_count": 12,
      "outputs": [
        {
          "output_type": "execute_result",
          "data": {
            "text/plain": [
              "array([117764.55826172])"
            ]
          },
          "metadata": {},
          "execution_count": 12
        }
      ]
    },
    {
      "cell_type": "code",
      "source": [
        "from sklearn.linear_model import Ridge, Lasso\n",
        "\n",
        "# ... (Your existing code) ...\n",
        "\n",
        "# Ridge Regression\n",
        "ridge_model = Ridge(alpha=3.0)  # You can adjust the regularization strength (alpha)\n",
        "ridge_model.fit(x_train, y_train)\n",
        "print(\"Ridge Regression Coefficients:\", ridge_model.coef_)\n",
        "print(\"Ridge Regression Intercept:\", ridge_model.intercept_)\n",
        "print(\"Ridge Regression R-squared:\", ridge_model.score(x_test, y_test))\n",
        "\n",
        "\n",
        "# Lasso Regression\n",
        "lasso_model = Lasso(alpha=1.0)  # You can adjust the regularization strength (alpha)\n",
        "lasso_model.fit(x_train, y_train)\n",
        "print(\"Lasso Regression Coefficients:\", lasso_model.coef_)\n",
        "print(\"Lasso Regression Intercept:\", lasso_model.intercept_)\n",
        "print(\"Lasso Regression R-squared:\", lasso_model.score(x_test, y_test))\n"
      ],
      "metadata": {
        "colab": {
          "base_uri": "https://localhost:8080/"
        },
        "id": "jg3E5kwbGsMR",
        "outputId": "fec37c79-d5c2-4189-94c1-0e53dc166c67"
      },
      "execution_count": 13,
      "outputs": [
        {
          "output_type": "stream",
          "name": "stdout",
          "text": [
            "Ridge Regression Coefficients: [1835783.07242298 1022355.80405096 1089206.18450095]\n",
            "Ridge Regression Intercept: -862958.6864477482\n",
            "Ridge Regression R-squared: 0.792898895338881\n",
            "Lasso Regression Coefficients: [1933185.18692973 1061985.88503405 1128686.40713468]\n",
            "Lasso Regression Intercept: -957555.7945096649\n",
            "Lasso Regression R-squared: 0.7937882278800605\n"
          ]
        }
      ]
    }
  ]
}