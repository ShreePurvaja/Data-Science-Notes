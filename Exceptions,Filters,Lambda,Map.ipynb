{
  "nbformat": 4,
  "nbformat_minor": 0,
  "metadata": {
    "colab": {
      "provenance": [],
      "authorship_tag": "ABX9TyNmwfVXxwbTLepm8++wmaj0",
      "include_colab_link": true
    },
    "kernelspec": {
      "name": "python3",
      "display_name": "Python 3"
    },
    "language_info": {
      "name": "python"
    }
  },
  "cells": [
    {
      "cell_type": "markdown",
      "metadata": {
        "id": "view-in-github",
        "colab_type": "text"
      },
      "source": [
        "<a href=\"https://colab.research.google.com/github/ShreePurvaja/Data-Science-Notes/blob/main/Exceptions%2CFilters%2CLambda%2CMap.ipynb\" target=\"_parent\"><img src=\"https://colab.research.google.com/assets/colab-badge.svg\" alt=\"Open In Colab\"/></a>"
      ]
    },
    {
      "cell_type": "markdown",
      "source": [
        "# 06.02.2025"
      ],
      "metadata": {
        "id": "jsE76JpqY8sH"
      }
    },
    {
      "cell_type": "code",
      "execution_count": 1,
      "metadata": {
        "colab": {
          "base_uri": "https://localhost:8080/"
        },
        "id": "SWWmIuOMX-Hl",
        "outputId": "f3d8f9e4-1fac-49a5-a7d5-f0099e301575"
      },
      "outputs": [
        {
          "output_type": "stream",
          "name": "stdout",
          "text": [
            "division by zero\n"
          ]
        }
      ],
      "source": [
        "# try and expect -> to check the error may occur and handle it\n",
        "\n",
        "try:\n",
        "  print(1/0)\n",
        "except Exception as e:\n",
        "  print(e)"
      ]
    },
    {
      "cell_type": "code",
      "source": [
        "# we can customize the error message\n",
        "\n",
        "try:\n",
        "  print(1/x)\n",
        "except ZeroDivisionError as e:\n",
        "  print(\"you are dividing by zero\")\n",
        "except Exception as e:\n",
        "  print(\"Something went wrong\")\n",
        "finally:                            # no matter what happens finally will run\n",
        "  print(\"\\nfinally code will always run\")"
      ],
      "metadata": {
        "colab": {
          "base_uri": "https://localhost:8080/"
        },
        "id": "YB5cLwm8Z8s4",
        "outputId": "dbe6969d-7b58-4c7b-ab66-2a29907afc34"
      },
      "execution_count": 7,
      "outputs": [
        {
          "output_type": "stream",
          "name": "stdout",
          "text": [
            "Something went wrong\n",
            "\n",
            "finally code will always run\n"
          ]
        }
      ]
    },
    {
      "cell_type": "code",
      "source": [
        "# case study example    - to create our own errors\n",
        "\n",
        "try:\n",
        "  coffee = input(\"What would you like to have?(espresso/latte/cappuccino):\")\n",
        "  if coffee not in [\"espresso\", \"latte\", \"cappuccino\",\"coffee powder\",\"coffee bean\"]:\n",
        "    raise Exception(\"Invalid choice\")\n",
        "except Exception as e:\n",
        "  print(e)\n"
      ],
      "metadata": {
        "colab": {
          "base_uri": "https://localhost:8080/"
        },
        "id": "7xx7ZdS3dWIf",
        "outputId": "c3ba2858-abf9-4ed0-925c-00ed5f36fc5a"
      },
      "execution_count": 10,
      "outputs": [
        {
          "output_type": "stream",
          "name": "stdout",
          "text": [
            "What would you like to have?(espresso/latte/cappuccino):hi\n",
            "Invalid choice\n"
          ]
        }
      ]
    },
    {
      "cell_type": "code",
      "source": [
        "# created an error with our own exception and handled it\n",
        "\n",
        "coffee = input(\"What would you like to have?(espresso/latte/cappuccino):\")\n",
        "if coffee not in [\"espresso\", \"latte\", \"cappuccino\",\"coffee powder\",\"coffee bean\"]:\n",
        "  raise Exception(\"Invalid choice\")"
      ],
      "metadata": {
        "id": "JLTbkqYheuIj"
      },
      "execution_count": null,
      "outputs": []
    },
    {
      "cell_type": "code",
      "source": [
        "# lambada function -> to create a function that can be called without creating a class\n",
        "\n",
        "x= lambda a,b:a+b\n",
        "print(x(21,26))"
      ],
      "metadata": {
        "colab": {
          "base_uri": "https://localhost:8080/"
        },
        "id": "P7pMheFZhBQm",
        "outputId": "eff267d5-ebb2-46b6-f339-8ece3f61b411"
      },
      "execution_count": 11,
      "outputs": [
        {
          "output_type": "stream",
          "name": "stdout",
          "text": [
            "47\n"
          ]
        }
      ]
    },
    {
      "cell_type": "code",
      "source": [
        "x = lambda a:\"major\" if a>18 else \"teen\"\n",
        "print(x(17))\n",
        "print(x(21))\n",
        "\n",
        "g=int(input(\"\\nenter your age:\"))\n",
        "print(x(g))"
      ],
      "metadata": {
        "colab": {
          "base_uri": "https://localhost:8080/"
        },
        "id": "XDoeCFrvigIX",
        "outputId": "c89af50f-b033-4e85-8103-8c2c132f9935"
      },
      "execution_count": 14,
      "outputs": [
        {
          "output_type": "stream",
          "name": "stdout",
          "text": [
            "teen\n",
            "major\n",
            "\n",
            "enter your age:20\n",
            "major\n"
          ]
        }
      ]
    },
    {
      "cell_type": "code",
      "source": [
        "def add(s,g):             # lambda function inside a normal function\n",
        "  x=lambda s,g:s+g\n",
        "  return x(s,g)\n",
        "print(add(21,26))"
      ],
      "metadata": {
        "colab": {
          "base_uri": "https://localhost:8080/"
        },
        "id": "oX6zLWn9jzuV",
        "outputId": "f414b95d-7ca3-4034-94e1-44da32bc9881"
      },
      "execution_count": 15,
      "outputs": [
        {
          "output_type": "stream",
          "name": "stdout",
          "text": [
            "47\n"
          ]
        }
      ]
    },
    {
      "cell_type": "code",
      "source": [
        "#filter\n",
        "#runfilter  data\n",
        "#filter logic\n",
        "#to store filter data\n",
        "\n",
        "def major(a):\n",
        "  if a>18:\n",
        "    return True\n",
        "  else:\n",
        "    return False\n",
        "\n",
        "b=[1,92,63,14,65,36,27,8,9,10,21,96,3,2,9,2]\n",
        "c=list(filter(major,b))\n",
        "print(c)"
      ],
      "metadata": {
        "colab": {
          "base_uri": "https://localhost:8080/"
        },
        "id": "K7-QWp79kGBu",
        "outputId": "209393c0-a8de-4e04-863e-80cb092332dd"
      },
      "execution_count": 18,
      "outputs": [
        {
          "output_type": "stream",
          "name": "stdout",
          "text": [
            "[92, 63, 65, 36, 27, 21, 96]\n"
          ]
        }
      ]
    },
    {
      "cell_type": "code",
      "source": [
        "# map -> spreading given data\n",
        "\n",
        "a=\"shreepurvaja\"\n",
        "print(list(map(str,a)))"
      ],
      "metadata": {
        "colab": {
          "base_uri": "https://localhost:8080/"
        },
        "id": "ryB3Wg4pplPn",
        "outputId": "db3b5356-4b37-44b7-ee6c-30c0ac0e610e"
      },
      "execution_count": 40,
      "outputs": [
        {
          "output_type": "stream",
          "name": "stdout",
          "text": [
            "['s', 'h', 'r', 'e', 'e', 'p', 'u', 'r', 'v', 'a', 'j', 'a']\n"
          ]
        }
      ]
    },
    {
      "cell_type": "code",
      "source": [
        "# map function\n",
        "\n",
        "def major(a):\n",
        "  if a>18:\n",
        "    return \"major\"\n",
        "  else:\n",
        "    return \"minor\"\n",
        "\n",
        "b=[1,92,63,14,65,36,27,96,3,2,9,2]\n",
        "c=list(map(major,b))\n",
        "print(c)"
      ],
      "metadata": {
        "colab": {
          "base_uri": "https://localhost:8080/"
        },
        "id": "8mL2PQBmo9ow",
        "outputId": "8be03b2b-3aea-44c9-fa28-3f1799f9fc0e"
      },
      "execution_count": 37,
      "outputs": [
        {
          "output_type": "stream",
          "name": "stdout",
          "text": [
            "['minor', 'major', 'major', 'minor', 'major', 'major', 'major', 'major', 'minor', 'minor', 'minor', 'minor']\n"
          ]
        }
      ]
    },
    {
      "cell_type": "code",
      "source": [
        "# vowels removed\n",
        "b=input()\n",
        "c=list(filter(lambda b:b not in ['a','e','i','o','u'],b))\n",
        "print(*c)       # unpack and print"
      ],
      "metadata": {
        "colab": {
          "base_uri": "https://localhost:8080/"
        },
        "id": "Lq9Cpsf6l7gr",
        "outputId": "6626b47a-a389-4c27-b9e5-a5ba7cca9009"
      },
      "execution_count": 44,
      "outputs": [
        {
          "output_type": "stream",
          "name": "stdout",
          "text": [
            "hello\n",
            "h l l\n"
          ]
        }
      ]
    },
    {
      "cell_type": "code",
      "source": [
        "s=list(map(str,input()))\n",
        "r=s[::-1]\n",
        "c=''.join(r)\n",
        "d=c.capitalize()\n",
        "print(d)"
      ],
      "metadata": {
        "colab": {
          "base_uri": "https://localhost:8080/"
        },
        "id": "Em98DsvFtF5R",
        "outputId": "9eeb9335-e6cb-453c-90c8-917661fce4e2"
      },
      "execution_count": 49,
      "outputs": [
        {
          "output_type": "stream",
          "name": "stdout",
          "text": [
            "shree\n",
            "Eerhs\n"
          ]
        }
      ]
    }
  ]
}