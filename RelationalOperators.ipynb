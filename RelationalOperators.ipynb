{
  "nbformat": 4,
  "nbformat_minor": 0,
  "metadata": {
    "colab": {
      "provenance": [],
      "include_colab_link": true
    },
    "kernelspec": {
      "name": "python3",
      "display_name": "Python 3"
    },
    "language_info": {
      "name": "python"
    }
  },
  "cells": [
    {
      "cell_type": "markdown",
      "metadata": {
        "id": "view-in-github",
        "colab_type": "text"
      },
      "source": [
        "<a href=\"https://colab.research.google.com/github/ShreePurvaja/Data-Science-Notes/blob/main/RelationalOperators.ipynb\" target=\"_parent\"><img src=\"https://colab.research.google.com/assets/colab-badge.svg\" alt=\"Open In Colab\"/></a>"
      ]
    },
    {
      "cell_type": "code",
      "execution_count": null,
      "metadata": {
        "colab": {
          "base_uri": "https://localhost:8080/"
        },
        "id": "nedolLmz3tX_",
        "outputId": "0457f6cd-b689-435d-e641-36f43f6c1557"
      },
      "outputs": [
        {
          "output_type": "stream",
          "name": "stdout",
          "text": [
            "hello MDTe36\n",
            "hello MDTe36\n",
            "herllo\n"
          ]
        }
      ],
      "source": [
        "print(\"hello MDTe36\")\n",
        "print('hello MDTe36')\n",
        "print('''herllo''')"
      ]
    },
    {
      "cell_type": "code",
      "source": [
        "c=input(\"enter your name\")\n",
        "print(c)"
      ],
      "metadata": {
        "colab": {
          "base_uri": "https://localhost:8080/"
        },
        "id": "TOLcHakS8ypc",
        "outputId": "89ca6c76-7860-4352-e762-1baceaabe00c"
      },
      "execution_count": null,
      "outputs": [
        {
          "output_type": "stream",
          "name": "stdout",
          "text": [
            "enter your namenirmal\n",
            "nirmal\n"
          ]
        }
      ]
    },
    {
      "cell_type": "code",
      "source": [
        "a=float(input(\"enter your number\"))\n",
        "b=200\n",
        "print(a+b)"
      ],
      "metadata": {
        "colab": {
          "base_uri": "https://localhost:8080/"
        },
        "id": "43UbTnst8DoB",
        "outputId": "cd5f9417-41a3-46aa-f271-a264f378d37a"
      },
      "execution_count": null,
      "outputs": [
        {
          "output_type": "stream",
          "name": "stdout",
          "text": [
            "enter your number20.67\n",
            "220.67000000000002\n"
          ]
        }
      ]
    },
    {
      "cell_type": "code",
      "source": [],
      "metadata": {
        "id": "c46hsCvubU4X"
      },
      "execution_count": null,
      "outputs": []
    },
    {
      "cell_type": "code",
      "source": [
        "print(10+35) #addition\n",
        "print(20-40)#sub\n",
        "print(10*10)#multi\n",
        "print(20/4)#div\n",
        "print(20%3)#reminder\n",
        "print(20//3)#floor division (return only the integer)\n",
        "print(2**3) #exponential"
      ],
      "metadata": {
        "colab": {
          "base_uri": "https://localhost:8080/"
        },
        "id": "lzXbMh7U9yTa",
        "outputId": "d440a4dd-775f-4739-ae51-777250e3a100"
      },
      "execution_count": null,
      "outputs": [
        {
          "output_type": "stream",
          "name": "stdout",
          "text": [
            "45\n",
            "-20\n",
            "100\n",
            "5.0\n",
            "2\n",
            "6\n",
            "8\n"
          ]
        }
      ]
    },
    {
      "cell_type": "code",
      "source": [
        "ip=input().split()\n",
        "print(ip)\n",
        "a=int(ip[0])\n",
        "b=int(ip[1])\n",
        "c=int(ip[2])\n",
        "print(a,b,c)"
      ],
      "metadata": {
        "colab": {
          "base_uri": "https://localhost:8080/"
        },
        "id": "bVZJp6AtLK-X",
        "outputId": "c18e372a-663d-4fa1-bdd2-5ed906e2f2e7"
      },
      "execution_count": null,
      "outputs": [
        {
          "output_type": "stream",
          "name": "stdout",
          "text": [
            "5 2 3\n",
            "['5', '2', '3']\n",
            "5 2 3\n"
          ]
        }
      ]
    },
    {
      "cell_type": "code",
      "source": [
        "print(2+3-4*6/4**2)\n",
        "\n",
        "#BODMAS"
      ],
      "metadata": {
        "colab": {
          "base_uri": "https://localhost:8080/"
        },
        "id": "VqJDzl59_LHK",
        "outputId": "bd47b2d9-24e1-423d-8321-701ca2be2035"
      },
      "execution_count": null,
      "outputs": [
        {
          "output_type": "stream",
          "name": "stdout",
          "text": [
            "3.5\n"
          ]
        }
      ]
    },
    {
      "cell_type": "code",
      "source": [
        "#comparison operators\n",
        "\n",
        "\n",
        "print(10 > 20)\n",
        "\n",
        "\n",
        "print(10 < 20)\n",
        "\n",
        "print(10 <= 10)\n",
        "\n",
        "print(10 >= 10)\n",
        "\n",
        "print(10 == 10)\n",
        "\n",
        "print(input(\"enter your password\")== \"agara\")\n",
        "\n",
        "print(10 != 11)"
      ],
      "metadata": {
        "colab": {
          "base_uri": "https://localhost:8080/"
        },
        "id": "KpV4AHXnFTaR",
        "outputId": "cc599d45-bb4e-405d-cb06-e2fd919b7389"
      },
      "execution_count": 1,
      "outputs": [
        {
          "output_type": "stream",
          "name": "stdout",
          "text": [
            "False\n",
            "True\n",
            "True\n",
            "True\n",
            "True\n",
            "enter your passwordagara\n",
            "True\n",
            "True\n"
          ]
        }
      ]
    },
    {
      "cell_type": "code",
      "source": [
        "print(\"a\">\"b\")\n",
        "\n"
      ],
      "metadata": {
        "colab": {
          "base_uri": "https://localhost:8080/"
        },
        "id": "1DxZE1j7MjcO",
        "outputId": "6c187ca9-af4d-4191-aa33-6a9978da17cd"
      },
      "execution_count": null,
      "outputs": [
        {
          "output_type": "stream",
          "name": "stdout",
          "text": [
            "False\n"
          ]
        }
      ]
    },
    {
      "cell_type": "code",
      "source": [
        "print(\"U+1F600\")"
      ],
      "metadata": {
        "colab": {
          "base_uri": "https://localhost:8080/"
        },
        "id": "7Icn_HYrNUdb",
        "outputId": "273b46bc-b7d9-4053-9a07-dbdc363dbb39"
      },
      "execution_count": null,
      "outputs": [
        {
          "output_type": "stream",
          "name": "stdout",
          "text": [
            "U+1F600\n"
          ]
        }
      ]
    },
    {
      "cell_type": "code",
      "source": [
        "# prompt: print smiley with above unicoide\n",
        "\n",
        "print(\"\\U0001F605\")"
      ],
      "metadata": {
        "colab": {
          "base_uri": "https://localhost:8080/"
        },
        "id": "0WFJ5nMoQErV",
        "outputId": "7cc5f91c-d1a0-49c9-cdf4-77f5f21bece4"
      },
      "execution_count": null,
      "outputs": [
        {
          "output_type": "stream",
          "name": "stdout",
          "text": [
            "😅\n"
          ]
        }
      ]
    },
    {
      "cell_type": "code",
      "source": [
        "print(10 > 20 <= 30)"
      ],
      "metadata": {
        "colab": {
          "base_uri": "https://localhost:8080/"
        },
        "id": "kVtvh4JRQpuV",
        "outputId": "f024bf35-c85b-4a5d-d71e-4200b87c882c"
      },
      "execution_count": null,
      "outputs": [
        {
          "output_type": "stream",
          "name": "stdout",
          "text": [
            "False\n"
          ]
        }
      ]
    },
    {
      "cell_type": "code",
      "source": [
        "print(18 < int(input(\"enter bmi\")) < 25)"
      ],
      "metadata": {
        "colab": {
          "base_uri": "https://localhost:8080/"
        },
        "id": "IZ8Y9s-WQvcu",
        "outputId": "037a17c6-c4cf-45ef-c7e9-a6c6f7d201da"
      },
      "execution_count": null,
      "outputs": [
        {
          "output_type": "stream",
          "name": "stdout",
          "text": [
            "enter bmi25\n",
            "False\n"
          ]
        }
      ]
    },
    {
      "cell_type": "code",
      "source": [
        "a=int(input(\"enter amount\"))\n",
        "print(80000 < a <100000 )\n",
        "\n",
        "print(80000 < a and a <100000 )"
      ],
      "metadata": {
        "colab": {
          "base_uri": "https://localhost:8080/"
        },
        "id": "KeI8IKfgRLsI",
        "outputId": "49ddea1b-ab47-445b-ebd5-f4850e2285c3"
      },
      "execution_count": null,
      "outputs": [
        {
          "output_type": "stream",
          "name": "stdout",
          "text": [
            "enter amount85000\n",
            "True\n"
          ]
        }
      ]
    },
    {
      "cell_type": "code",
      "source": [
        "a > 80000\n",
        "\n",
        "80000 < a"
      ],
      "metadata": {
        "id": "uOxitlsrRyy0"
      },
      "execution_count": null,
      "outputs": []
    },
    {
      "cell_type": "code",
      "source": [
        "#logical operators\n",
        "\n",
        "print(True and True)\n",
        "\n",
        "print(True and False)\n",
        "\n",
        "print(False and True)\n",
        "\n",
        "print(False and False)\n",
        "\n",
        "\n",
        "print(True or True)\n",
        "\n",
        "print(True or False)\n",
        "\n",
        "print(False or True)\n",
        "\n",
        "print(False or False)\n",
        "\n",
        "#blue-keyword\n",
        "#yellow-functions"
      ],
      "metadata": {
        "colab": {
          "base_uri": "https://localhost:8080/"
        },
        "id": "ksjwCErHCYf-",
        "outputId": "2b2f5653-c6f6-4ff4-ca61-158b057135f8"
      },
      "execution_count": null,
      "outputs": [
        {
          "output_type": "stream",
          "name": "stdout",
          "text": [
            "True\n",
            "False\n",
            "False\n",
            "False\n",
            "True\n",
            "True\n",
            "True\n",
            "False\n"
          ]
        }
      ]
    },
    {
      "cell_type": "code",
      "source": [
        "\n",
        "print( None or False)"
      ],
      "metadata": {
        "colab": {
          "base_uri": "https://localhost:8080/"
        },
        "id": "OqFB4vo7Doz0",
        "outputId": "dfb0ea31-7a4e-4b52-da4c-1a235b879254"
      },
      "execution_count": null,
      "outputs": [
        {
          "output_type": "stream",
          "name": "stdout",
          "text": [
            "nirmal\n"
          ]
        }
      ]
    },
    {
      "cell_type": "code",
      "source": [
        "print( 1 and 1)"
      ],
      "metadata": {
        "colab": {
          "base_uri": "https://localhost:8080/"
        },
        "id": "FgjeVdCYEfUY",
        "outputId": "60fe231f-6e90-4336-e950-55e990a0642b"
      },
      "execution_count": null,
      "outputs": [
        {
          "output_type": "stream",
          "name": "stdout",
          "text": [
            "1\n"
          ]
        }
      ]
    },
    {
      "cell_type": "code",
      "source": [
        "print( 1 and 0 )"
      ],
      "metadata": {
        "colab": {
          "base_uri": "https://localhost:8080/"
        },
        "id": "XXesz8IDFSYg",
        "outputId": "10b77964-b7e0-4b66-8a7d-307b8c5e2fb8"
      },
      "execution_count": null,
      "outputs": [
        {
          "output_type": "stream",
          "name": "stdout",
          "text": [
            "0\n"
          ]
        }
      ]
    },
    {
      "cell_type": "code",
      "source": [
        "print(\"nirmal\" and 0 )"
      ],
      "metadata": {
        "colab": {
          "base_uri": "https://localhost:8080/"
        },
        "id": "TMs4E_uRFVLq",
        "outputId": "a2915c37-88f1-4398-c69a-1ea7c69031d2"
      },
      "execution_count": null,
      "outputs": [
        {
          "output_type": "stream",
          "name": "stdout",
          "text": [
            "0\n"
          ]
        }
      ]
    },
    {
      "cell_type": "code",
      "source": [
        "print(0 and \"nirmal \")"
      ],
      "metadata": {
        "colab": {
          "base_uri": "https://localhost:8080/"
        },
        "id": "ZgkCJS5MFwBT",
        "outputId": "141738e7-f6ec-4130-a8e0-e583824c18a5"
      },
      "execution_count": null,
      "outputs": [
        {
          "output_type": "stream",
          "name": "stdout",
          "text": [
            "0\n"
          ]
        }
      ]
    },
    {
      "cell_type": "code",
      "source": [
        "print(None or False)\n",
        "print(None and False)"
      ],
      "metadata": {
        "colab": {
          "base_uri": "https://localhost:8080/"
        },
        "id": "P3fl-HPAGWJO",
        "outputId": "42e1cf9e-7b0f-4560-ef08-0fbb641fd85f"
      },
      "execution_count": null,
      "outputs": [
        {
          "output_type": "stream",
          "name": "stdout",
          "text": [
            "False\n",
            "None\n"
          ]
        }
      ]
    },
    {
      "cell_type": "code",
      "source": [
        "print(True or False and True)\n",
        "print(True and False and True)"
      ],
      "metadata": {
        "colab": {
          "base_uri": "https://localhost:8080/"
        },
        "id": "RS8EBSGyGjYs",
        "outputId": "5e49d269-82f0-4969-fa7e-cc0f48dcbf19"
      },
      "execution_count": null,
      "outputs": [
        {
          "output_type": "stream",
          "name": "stdout",
          "text": [
            "True\n",
            "True\n"
          ]
        }
      ]
    },
    {
      "cell_type": "code",
      "source": [
        "print(1 and \"idly\")"
      ],
      "metadata": {
        "colab": {
          "base_uri": "https://localhost:8080/"
        },
        "id": "FbkV14CqPEni",
        "outputId": "caed2231-8d42-4846-fd44-86b340566c9f"
      },
      "execution_count": null,
      "outputs": [
        {
          "output_type": "stream",
          "name": "stdout",
          "text": [
            "idly\n"
          ]
        }
      ]
    },
    {
      "cell_type": "code",
      "source": [
        "#conditions\n",
        "pasi=input(\"pasikudha ?\")\n",
        "\n",
        "\n",
        "if pasi == \"yes\" and \"idly\" :\n",
        " print(\"i am going to eat\")\n",
        "else:\n",
        "  print(\"porumaya paathukuvom\")"
      ],
      "metadata": {
        "colab": {
          "base_uri": "https://localhost:8080/"
        },
        "id": "joghtL_dH_9n",
        "outputId": "0b02899b-6fc9-45c2-ee0c-e70fe0478125"
      },
      "execution_count": null,
      "outputs": [
        {
          "output_type": "stream",
          "name": "stdout",
          "text": [
            "pasikudha ?yes\n",
            "i am going to eat\n"
          ]
        }
      ]
    },
    {
      "cell_type": "code",
      "source": [
        "pin=input(\"enter pin\")\n",
        "\n",
        "if pin == \"1234\":\n",
        "  print(\"welcome\")\n",
        "else:\n",
        "  print(\"try again\")"
      ],
      "metadata": {
        "colab": {
          "base_uri": "https://localhost:8080/"
        },
        "id": "KEi-gi0pMroI",
        "outputId": "f3edf7b2-23c8-4a5b-8628-5558d651b35c"
      },
      "execution_count": null,
      "outputs": [
        {
          "output_type": "stream",
          "name": "stdout",
          "text": [
            "enter pin1234\n",
            "welcome\n"
          ]
        }
      ]
    },
    {
      "cell_type": "code",
      "source": [
        "#conditions\n",
        "how= input(\"eppadi irukka?\")\n",
        "\n",
        "\n",
        "if how==\"nalla irukenga\":\n",
        "  print(\"continue talking\")\n",
        "elif how ==\"iruken\":\n",
        "  print(\"konjam careful\")\n",
        "elif how ==\"enna prachana\":\n",
        "  print(\"all clear\")\n",
        "else:\n",
        "  print(\"end the call\")\n",
        "\n",
        "\n"
      ],
      "metadata": {
        "colab": {
          "base_uri": "https://localhost:8080/"
        },
        "id": "42EgHwIIOkPp",
        "outputId": "dbc949e0-4fc0-41ee-a8fe-8ecb97ba26aa"
      },
      "execution_count": null,
      "outputs": [
        {
          "output_type": "stream",
          "name": "stdout",
          "text": [
            "eppadi irukka?iruken\n",
            "konjam careful\n"
          ]
        }
      ]
    },
    {
      "cell_type": "code",
      "source": [
        "#nested condition - ATM\n",
        "\n",
        "card=input(\"card mela irukka 16 sollunga\")\n",
        "\n",
        "\n",
        "if card ==\"1234 1234 1234 1234\":\n",
        "  print(\"welcome\")\n",
        "  pin=input(\"enter pin\")\n",
        "  if pin == \"1234\":\n",
        "    print(\"access granted\")\n",
        "    operation=input(\"W or D or B\")\n",
        "    balance = 10000\n",
        "    if operation == \"W\":\n",
        "     amount = int(input(\"enter amount to withdraw\"))\n",
        "     if amount <= balance:\n",
        "      print(\"take cash\")\n",
        "     else:\n",
        "      print(\"low balance\")\n",
        "    elif operation == \"D\":\n",
        "      amount = int(input(\"amount podunga\"))\n",
        "      balance = balance + amount\n",
        "      print(balance)\n",
        "    elif operation ==\"B\":\n",
        "      print(balance)\n",
        "    else:\n",
        "      print(\"invalid input\")\n",
        "  else:\n",
        "    print(\"invalid pin try again\")\n",
        "else:\n",
        "  print(\"invalid card\")"
      ],
      "metadata": {
        "colab": {
          "base_uri": "https://localhost:8080/"
        },
        "id": "8pPx6MHUTKVO",
        "outputId": "e34415a9-b075-42c4-c5d9-cbb66220eaf6"
      },
      "execution_count": null,
      "outputs": [
        {
          "output_type": "stream",
          "name": "stdout",
          "text": [
            "card mela irukka 16 sollunga1234 1234 1234 1234\n",
            "welcome\n",
            "enter pin1234\n",
            "access granted\n",
            "W or D or BW\n",
            "enter amount to withdraw20000\n",
            "low balance\n"
          ]
        }
      ]
    },
    {
      "cell_type": "code",
      "source": [
        "a=input(\"enter your name\")\n",
        "\n",
        "count=0\n",
        "\n",
        "for d in a:\n",
        "  count=count+1\n",
        "\n",
        "print(count)\n",
        "\n",
        "#iter()- iterable\n",
        "#next()"
      ],
      "metadata": {
        "id": "IJgPa2VIXM_d",
        "colab": {
          "base_uri": "https://localhost:8080/"
        },
        "collapsed": true,
        "outputId": "7e420190-9f67-4e11-d530-876cb07b7ec7"
      },
      "execution_count": null,
      "outputs": [
        {
          "output_type": "stream",
          "name": "stdout",
          "text": [
            "enter your nameguvi\n",
            "1\n",
            "2\n",
            "3\n",
            "4\n"
          ]
        }
      ]
    },
    {
      "cell_type": "code",
      "source": [
        "a=0\n",
        "for i in [1,2,3,4,5,6,7]:\n",
        "  a=a+i\n",
        "print(a)"
      ],
      "metadata": {
        "colab": {
          "base_uri": "https://localhost:8080/"
        },
        "id": "3AyoO2_nORDT",
        "outputId": "76928e5f-ffda-4569-dad5-d295154139c5"
      },
      "execution_count": null,
      "outputs": [
        {
          "output_type": "stream",
          "name": "stdout",
          "text": [
            "28\n"
          ]
        }
      ]
    },
    {
      "cell_type": "code",
      "source": [
        "\n",
        "total=0\n",
        "for num in [1,2,3,4]:\n",
        "  total = total + num\n",
        "\n",
        "print(total)"
      ],
      "metadata": {
        "colab": {
          "base_uri": "https://localhost:8080/"
        },
        "id": "Nvzbgb6dZAxE",
        "outputId": "8990f225-d235-4c51-8b1c-a6bf9725bd4e"
      },
      "execution_count": null,
      "outputs": [
        {
          "output_type": "stream",
          "name": "stdout",
          "text": [
            "10\n"
          ]
        }
      ]
    },
    {
      "cell_type": "code",
      "source": [
        "total=0\n",
        "[total:= total + num for num in [1,2,3,4]]\n",
        "print(total)"
      ],
      "metadata": {
        "colab": {
          "base_uri": "https://localhost:8080/"
        },
        "id": "9GENlVb5XjyR",
        "outputId": "6afecb83-3f94-478d-a205-eddc54db9299"
      },
      "execution_count": null,
      "outputs": [
        {
          "output_type": "stream",
          "name": "stdout",
          "text": [
            "10\n"
          ]
        }
      ]
    },
    {
      "cell_type": "code",
      "source": [
        "sum([1,2,3,4,5,6,7])"
      ],
      "metadata": {
        "colab": {
          "base_uri": "https://localhost:8080/"
        },
        "id": "03lFwli-UwK2",
        "outputId": "85f68e17-2265-4457-98d0-23b11bc7fd14"
      },
      "execution_count": null,
      "outputs": [
        {
          "output_type": "execute_result",
          "data": {
            "text/plain": [
              "28"
            ]
          },
          "metadata": {},
          "execution_count": 14
        }
      ]
    },
    {
      "cell_type": "code",
      "source": [
        "for i in range (1,100,3):\n",
        "  print(i)"
      ],
      "metadata": {
        "colab": {
          "base_uri": "https://localhost:8080/"
        },
        "collapsed": true,
        "id": "KqfZTPWhbnGq",
        "outputId": "89dbc315-dd04-4994-caa7-ea16ff50576f"
      },
      "execution_count": null,
      "outputs": [
        {
          "output_type": "stream",
          "name": "stdout",
          "text": [
            "1\n",
            "4\n",
            "7\n",
            "10\n",
            "13\n",
            "16\n",
            "19\n",
            "22\n",
            "25\n",
            "28\n",
            "31\n",
            "34\n",
            "37\n",
            "40\n",
            "43\n",
            "46\n",
            "49\n",
            "52\n",
            "55\n",
            "58\n",
            "61\n",
            "64\n",
            "67\n",
            "70\n",
            "73\n",
            "76\n",
            "79\n",
            "82\n",
            "85\n",
            "88\n",
            "91\n",
            "94\n",
            "97\n"
          ]
        }
      ]
    },
    {
      "cell_type": "code",
      "source": [
        "for i in range(1,10,):\n",
        "  for j in range(10):\n",
        "    print(i,j)\n"
      ],
      "metadata": {
        "colab": {
          "base_uri": "https://localhost:8080/"
        },
        "collapsed": true,
        "id": "fAOX_fU7PNia",
        "outputId": "9678e021-1126-4e3e-b748-b5d439e18360"
      },
      "execution_count": null,
      "outputs": [
        {
          "output_type": "stream",
          "name": "stdout",
          "text": [
            "0 0\n",
            "0 1\n",
            "0 2\n",
            "0 3\n",
            "0 4\n",
            "0 5\n",
            "0 6\n",
            "0 7\n",
            "0 8\n",
            "0 9\n",
            "1 0\n",
            "1 1\n",
            "1 2\n",
            "1 3\n",
            "1 4\n",
            "1 5\n",
            "1 6\n",
            "1 7\n",
            "1 8\n",
            "1 9\n",
            "2 0\n",
            "2 1\n",
            "2 2\n",
            "2 3\n",
            "2 4\n",
            "2 5\n",
            "2 6\n",
            "2 7\n",
            "2 8\n",
            "2 9\n",
            "3 0\n",
            "3 1\n",
            "3 2\n",
            "3 3\n",
            "3 4\n",
            "3 5\n",
            "3 6\n",
            "3 7\n",
            "3 8\n",
            "3 9\n",
            "4 0\n",
            "4 1\n",
            "4 2\n",
            "4 3\n",
            "4 4\n",
            "4 5\n",
            "4 6\n",
            "4 7\n",
            "4 8\n",
            "4 9\n",
            "5 0\n",
            "5 1\n",
            "5 2\n",
            "5 3\n",
            "5 4\n",
            "5 5\n",
            "5 6\n",
            "5 7\n",
            "5 8\n",
            "5 9\n",
            "6 0\n",
            "6 1\n",
            "6 2\n",
            "6 3\n",
            "6 4\n",
            "6 5\n",
            "6 6\n",
            "6 7\n",
            "6 8\n",
            "6 9\n",
            "7 0\n",
            "7 1\n",
            "7 2\n",
            "7 3\n",
            "7 4\n",
            "7 5\n",
            "7 6\n",
            "7 7\n",
            "7 8\n",
            "7 9\n",
            "8 0\n",
            "8 1\n",
            "8 2\n",
            "8 3\n",
            "8 4\n",
            "8 5\n",
            "8 6\n",
            "8 7\n",
            "8 8\n",
            "8 9\n",
            "9 0\n",
            "9 1\n",
            "9 2\n",
            "9 3\n",
            "9 4\n",
            "9 5\n",
            "9 6\n",
            "9 7\n",
            "9 8\n",
            "9 9\n"
          ]
        }
      ]
    },
    {
      "cell_type": "code",
      "source": [
        "maindish=[\"idly\",\"parotta\"]\n",
        "sidedish=[\"sambar\",\"chutney\"]\n",
        "\n",
        "for i in maindish:\n",
        "  for j in sidedish:\n",
        "    print(i,j)"
      ],
      "metadata": {
        "colab": {
          "base_uri": "https://localhost:8080/"
        },
        "id": "FNTw3c9pUpdX",
        "outputId": "59ccdb7a-4b9d-40b9-e1ac-9eb0e2675f40"
      },
      "execution_count": null,
      "outputs": [
        {
          "output_type": "stream",
          "name": "stdout",
          "text": [
            "idly sambar\n",
            "idly chutney\n",
            "parotta sambar\n",
            "parotta chutney\n"
          ]
        }
      ]
    },
    {
      "cell_type": "code",
      "source": [
        "for i in [\"rajini\",\"kamal\",\"alia\"]:\n",
        "  for j in [\"khanth\",\"hassan\",\"bhatt\"]:\n",
        "    #code here\n",
        "\n",
        "#rajini khanth\n",
        "#kamal hassan\n",
        "#alia bhatt"
      ],
      "metadata": {
        "id": "vhXsOzPKcTbc"
      },
      "execution_count": null,
      "outputs": []
    },
    {
      "cell_type": "code",
      "source": [
        "problem=input(\"prachana irukka\")\n",
        "\n",
        "while problem == \"no\":\n",
        "  print(\"marriage is happening\")\n",
        "  problem=input(\"prachana irukka\")\n"
      ],
      "metadata": {
        "colab": {
          "base_uri": "https://localhost:8080/"
        },
        "collapsed": true,
        "id": "8u5ilpxec0yk",
        "outputId": "5c69054f-6e94-4030-c469-e0bcdb718bc3"
      },
      "execution_count": null,
      "outputs": [
        {
          "name": "stdout",
          "output_type": "stream",
          "text": [
            "prachana irukkano\n",
            "marriage is happening\n",
            "prachana irukkayes\n"
          ]
        }
      ]
    },
    {
      "cell_type": "code",
      "source": [
        "a=0\n",
        "\n",
        "while a<10:\n",
        "\n",
        "  a=a+2\n",
        "  print(a)\n",
        "\n",
        "\n",
        "#break\n",
        "#continue\n",
        "#pass"
      ],
      "metadata": {
        "colab": {
          "base_uri": "https://localhost:8080/"
        },
        "id": "3IlvJbZFc_k0",
        "outputId": "051fa491-d51a-4c67-c2c5-9ad9db1bc251"
      },
      "execution_count": null,
      "outputs": [
        {
          "output_type": "stream",
          "name": "stdout",
          "text": [
            "2\n",
            "4\n",
            "6\n",
            "8\n",
            "10\n"
          ]
        }
      ]
    },
    {
      "cell_type": "code",
      "source": [
        "a=0\n",
        "\n",
        "while a<100:\n",
        "  a=a+1\n",
        "  print(a)\n",
        "  if a==5:\n",
        "    break\n",
        "\n",
        "print(\"after loop\")"
      ],
      "metadata": {
        "colab": {
          "base_uri": "https://localhost:8080/"
        },
        "collapsed": true,
        "id": "JlwRst0ieWlX",
        "outputId": "cea5ab7b-bc9d-4e94-bfa5-700d85b41e60"
      },
      "execution_count": null,
      "outputs": [
        {
          "output_type": "stream",
          "name": "stdout",
          "text": [
            "1\n",
            "after loop\n",
            "2\n",
            "after loop\n",
            "3\n",
            "after loop\n",
            "4\n",
            "after loop\n",
            "5\n"
          ]
        }
      ]
    },
    {
      "cell_type": "code",
      "source": [
        "a=0\n",
        "\n",
        "while a<100:\n",
        "  a=a+1\n",
        "  if a%5 == 0:\n",
        "    continue #skip the loop\n",
        "  print(a)\n",
        "\n",
        "print(\"after loop\")"
      ],
      "metadata": {
        "colab": {
          "base_uri": "https://localhost:8080/"
        },
        "collapsed": true,
        "id": "JT8WQLRDg1By",
        "outputId": "b1ce41aa-5434-4b4f-85f0-79dbd2a6afae"
      },
      "execution_count": null,
      "outputs": [
        {
          "output_type": "stream",
          "name": "stdout",
          "text": [
            "1\n",
            "2\n",
            "3\n",
            "4\n",
            "6\n",
            "7\n",
            "8\n",
            "9\n",
            "11\n",
            "12\n",
            "13\n",
            "14\n",
            "16\n",
            "17\n",
            "18\n",
            "19\n",
            "21\n",
            "22\n",
            "23\n",
            "24\n",
            "26\n",
            "27\n",
            "28\n",
            "29\n",
            "31\n",
            "32\n",
            "33\n",
            "34\n",
            "36\n",
            "37\n",
            "38\n",
            "39\n",
            "41\n",
            "42\n",
            "43\n",
            "44\n",
            "46\n",
            "47\n",
            "48\n",
            "49\n",
            "51\n",
            "52\n",
            "53\n",
            "54\n",
            "56\n",
            "57\n",
            "58\n",
            "59\n",
            "61\n",
            "62\n",
            "63\n",
            "64\n",
            "66\n",
            "67\n",
            "68\n",
            "69\n",
            "71\n",
            "72\n",
            "73\n",
            "74\n",
            "76\n",
            "77\n",
            "78\n",
            "79\n",
            "81\n",
            "82\n",
            "83\n",
            "84\n",
            "86\n",
            "87\n",
            "88\n",
            "89\n",
            "91\n",
            "92\n",
            "93\n",
            "94\n",
            "96\n",
            "97\n",
            "98\n",
            "99\n",
            "after loop\n"
          ]
        }
      ]
    },
    {
      "cell_type": "code",
      "source": [
        "a=0\n",
        "\n",
        "while a<100:\n",
        "  a=a+1\n",
        "  if a%5 == 0:\n",
        "    #payment\n",
        "    pass\n",
        "  print(a)\n",
        "\n",
        "print(\"after loop\")"
      ],
      "metadata": {
        "colab": {
          "base_uri": "https://localhost:8080/"
        },
        "collapsed": true,
        "id": "hinIyO6-hu5I",
        "outputId": "7c0b6f1e-7a68-4573-f114-452113e7b7b9"
      },
      "execution_count": null,
      "outputs": [
        {
          "output_type": "stream",
          "name": "stdout",
          "text": [
            "1\n",
            "2\n",
            "3\n",
            "4\n",
            "5\n",
            "6\n",
            "7\n",
            "8\n",
            "9\n",
            "10\n",
            "11\n",
            "12\n",
            "13\n",
            "14\n",
            "15\n",
            "16\n",
            "17\n",
            "18\n",
            "19\n",
            "20\n",
            "21\n",
            "22\n",
            "23\n",
            "24\n",
            "25\n",
            "26\n",
            "27\n",
            "28\n",
            "29\n",
            "30\n",
            "31\n",
            "32\n",
            "33\n",
            "34\n",
            "35\n",
            "36\n",
            "37\n",
            "38\n",
            "39\n",
            "40\n",
            "41\n",
            "42\n",
            "43\n",
            "44\n",
            "45\n",
            "46\n",
            "47\n",
            "48\n",
            "49\n",
            "50\n",
            "51\n",
            "52\n",
            "53\n",
            "54\n",
            "55\n",
            "56\n",
            "57\n",
            "58\n",
            "59\n",
            "60\n",
            "61\n",
            "62\n",
            "63\n",
            "64\n",
            "65\n",
            "66\n",
            "67\n",
            "68\n",
            "69\n",
            "70\n",
            "71\n",
            "72\n",
            "73\n",
            "74\n",
            "75\n",
            "76\n",
            "77\n",
            "78\n",
            "79\n",
            "80\n",
            "81\n",
            "82\n",
            "83\n",
            "84\n",
            "85\n",
            "86\n",
            "87\n",
            "88\n",
            "89\n",
            "90\n",
            "91\n",
            "92\n",
            "93\n",
            "94\n",
            "95\n",
            "96\n",
            "97\n",
            "98\n",
            "99\n",
            "100\n",
            "after loop\n"
          ]
        }
      ]
    },
    {
      "cell_type": "code",
      "source": [
        "a=0\n",
        "\n",
        "while a<10:\n",
        "  a=a+1\n",
        "  for i in range (10):\n",
        "    print(a,i)\n",
        "    if i==2:\n",
        "      break\n",
        "\n",
        "print(\"after loop\")"
      ],
      "metadata": {
        "colab": {
          "base_uri": "https://localhost:8080/"
        },
        "id": "Mir_eXOJlfBC",
        "outputId": "9dab0c58-9595-4ca3-ae62-f8a2a2f4a1aa"
      },
      "execution_count": null,
      "outputs": [
        {
          "output_type": "stream",
          "name": "stdout",
          "text": [
            "1 0\n",
            "1 1\n",
            "1 2\n",
            "2 0\n",
            "2 1\n",
            "2 2\n",
            "3 0\n",
            "3 1\n",
            "3 2\n",
            "4 0\n",
            "4 1\n",
            "4 2\n",
            "5 0\n",
            "5 1\n",
            "5 2\n",
            "6 0\n",
            "6 1\n",
            "6 2\n",
            "7 0\n",
            "7 1\n",
            "7 2\n",
            "8 0\n",
            "8 1\n",
            "8 2\n",
            "9 0\n",
            "9 1\n",
            "9 2\n",
            "10 0\n",
            "10 1\n",
            "10 2\n",
            "after loop\n"
          ]
        }
      ]
    },
    {
      "cell_type": "code",
      "source": [
        "# Task: Cafeteria Order Management System\n",
        "# Description:\n",
        "# The program will keep taking orders until the user decides to stop.\n",
        "# For each order, the system will display a menu of items.\n",
        "# The user can select an item, and the system will process the order.\n",
        "\n",
        "\n",
        "menu = [\"Idly\", \"Dosa\", \"Vada\", \"Pongal\", \"Upma\"]\n",
        "prices = [20, 50, 30, 40, 35]\n",
        "\n",
        "print(\"Welcome to the Cafeteria!\")\n",
        "\n",
        "while True:\n",
        "  #code here\n",
        "  #Would you like to order something else? (yes/no): no"
      ],
      "metadata": {
        "id": "HH7ZJUSTmdps"
      },
      "execution_count": null,
      "outputs": []
    }
  ]
}