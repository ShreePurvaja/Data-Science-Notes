{
  "nbformat": 4,
  "nbformat_minor": 0,
  "metadata": {
    "colab": {
      "provenance": [],
      "authorship_tag": "ABX9TyMW0Dsg6EzPZl6Do280xVp2",
      "include_colab_link": true
    },
    "kernelspec": {
      "name": "python3",
      "display_name": "Python 3"
    },
    "language_info": {
      "name": "python"
    }
  },
  "cells": [
    {
      "cell_type": "markdown",
      "metadata": {
        "id": "view-in-github",
        "colab_type": "text"
      },
      "source": [
        "<a href=\"https://colab.research.google.com/github/ShreePurvaja/Data-Science-Notes/blob/main/py_basics2.ipynb\" target=\"_parent\"><img src=\"https://colab.research.google.com/assets/colab-badge.svg\" alt=\"Open In Colab\"/></a>"
      ]
    },
    {
      "cell_type": "code",
      "execution_count": null,
      "metadata": {
        "colab": {
          "base_uri": "https://localhost:8080/"
        },
        "id": "rIeFj-n4DGkG",
        "outputId": "eeddabb3-fbbc-4305-afd5-542774e451a1"
      },
      "outputs": [
        {
          "output_type": "stream",
          "name": "stdout",
          "text": [
            "True\n",
            "True\n",
            "True\n",
            "False\n"
          ]
        }
      ],
      "source": [
        "#OR Operator\n",
        "print(True or True)\n",
        "\n",
        "print(True or False)\n",
        "\n",
        "print(False or True)\n",
        "\n",
        "print(False or False)"
      ]
    },
    {
      "cell_type": "code",
      "source": [
        "#AND Operator\n",
        "\n",
        "print(True and True)\n",
        "\n",
        "print(True and False)\n",
        "\n",
        "print(False and True)\n",
        "\n",
        "print(False and False)"
      ],
      "metadata": {
        "colab": {
          "base_uri": "https://localhost:8080/"
        },
        "id": "OtLvD28QEUrZ",
        "outputId": "68342a83-2d53-4d6b-d178-f08ea0a8bb1d"
      },
      "execution_count": null,
      "outputs": [
        {
          "output_type": "stream",
          "name": "stdout",
          "text": [
            "True\n",
            "False\n",
            "False\n",
            "False\n"
          ]
        }
      ]
    },
    {
      "cell_type": "code",
      "source": [
        "#using numbers\n",
        "\n",
        "print(1 and 0)\n",
        "\n",
        "print(1 or 0)\n",
        "\n",
        "#using words\n",
        "print(\"hi\" or \"hello\")\n",
        "\n",
        "print(\"hi\" and \"hello\")\n",
        "\n",
        "print(None or \"Hi\")#denotes null value"
      ],
      "metadata": {
        "colab": {
          "base_uri": "https://localhost:8080/"
        },
        "id": "Irqh9YVoEqw8",
        "outputId": "735cb52c-d4f9-499a-f56c-2f8eb18062d9"
      },
      "execution_count": null,
      "outputs": [
        {
          "output_type": "stream",
          "name": "stdout",
          "text": [
            "0\n",
            "1\n",
            "hi\n",
            "hello\n",
            "Hi\n"
          ]
        }
      ]
    },
    {
      "cell_type": "code",
      "source": [
        "print(True or False and True)"
      ],
      "metadata": {
        "colab": {
          "base_uri": "https://localhost:8080/"
        },
        "id": "JecG-glHHr6Y",
        "outputId": "2f2847c1-0b4a-4de1-e15f-bf12480baf41"
      },
      "execution_count": null,
      "outputs": [
        {
          "output_type": "stream",
          "name": "stdout",
          "text": [
            "True\n"
          ]
        }
      ]
    },
    {
      "cell_type": "code",
      "source": [
        "#if else conditions\n",
        "pin = input(\"Enter your pin: \")\n",
        "\n",
        "if(pin == \"hi\"):\n",
        "  print(\"Hi Purvaja\")\n",
        "else:\n",
        "  print(\"Who's this?\")"
      ],
      "metadata": {
        "colab": {
          "base_uri": "https://localhost:8080/"
        },
        "id": "ueaKFcPrP4IX",
        "outputId": "bf402d7b-3fb5-40e5-affe-3a9f96df802f"
      },
      "execution_count": null,
      "outputs": [
        {
          "output_type": "stream",
          "name": "stdout",
          "text": [
            "Enter your pin: hi\n",
            "Hi Purvaja\n"
          ]
        }
      ]
    },
    {
      "cell_type": "code",
      "source": [
        "#if-else-if conditions\n",
        "pin = input(\"Enter your pin:\")\n",
        "\n",
        "if(pin == \"hi\"):\n",
        "  print(\"Hi purvaja\")\n",
        "elif(pin == \"hello\"):\n",
        "  print(\"Hello Purvaja\")\n",
        "else:\n",
        "  print(\"Who's this?\")\n"
      ],
      "metadata": {
        "colab": {
          "base_uri": "https://localhost:8080/"
        },
        "id": "7UrEGvioTqAz",
        "outputId": "913424e2-389e-44d1-d421-34cb85bc9702"
      },
      "execution_count": null,
      "outputs": [
        {
          "output_type": "stream",
          "name": "stdout",
          "text": [
            "Enter your pin:hello\n",
            "Hello Purvaja\n"
          ]
        }
      ]
    },
    {
      "cell_type": "code",
      "source": [
        "#nested conditions - ATM\n",
        "\n",
        "balance=50000\n",
        "card =input(\"Enter the card number:\")\n",
        "\n",
        "if card== \"1111 2222 3333 4444\":\n",
        "  pin=input(\"Enter pin:\")\n",
        "  if pin==\"1234\":\n",
        "    mode=input(\"Enter mode:\")\n",
        "  if mode==\"deposit\":\n",
        "    depo=int(input(\"Enter amount:\"))\n",
        "    d=balance+depo\n",
        "    print(\"The Balance is:\",d)\n",
        "  elif mode==\"withdraw\":\n",
        "    withD=int(input(\"Enter amount:\"))\n",
        "    if withD<balance:\n",
        "      print(\"Collect your cash Rs.\",withD)\n",
        "    else:\n",
        "      print(\"Insufficient balance\")\n",
        "  elif mode==\"balance\":\n",
        "    print(\"The Current balance is:\" ,balance)\n",
        "  else:\n",
        "    print(\"Select the action to be performed\")\n",
        "else:\n",
        "  print(\"Invalid Card Number\")\n"
      ],
      "metadata": {
        "colab": {
          "base_uri": "https://localhost:8080/"
        },
        "id": "JXvFhS2uV_WN",
        "outputId": "b6e42072-cbf3-4f80-8026-383f1648933c"
      },
      "execution_count": null,
      "outputs": [
        {
          "output_type": "stream",
          "name": "stdout",
          "text": [
            "Enter the card number:1111 2222 3333 4444\n",
            "Enter pin:1234\n",
            "Enter mode:withdraw\n",
            "Enter amount:2000000\n",
            "Insufficient balance\n"
          ]
        }
      ]
    }
  ]
}