{
  "nbformat": 4,
  "nbformat_minor": 0,
  "metadata": {
    "colab": {
      "provenance": [],
      "authorship_tag": "ABX9TyMPcP/1XgKWRCeiFO3aelMO",
      "include_colab_link": true
    },
    "kernelspec": {
      "name": "python3",
      "display_name": "Python 3"
    },
    "language_info": {
      "name": "python"
    }
  },
  "cells": [
    {
      "cell_type": "markdown",
      "metadata": {
        "id": "view-in-github",
        "colab_type": "text"
      },
      "source": [
        "<a href=\"https://colab.research.google.com/github/ShreePurvaja/Data-Science-Notes/blob/main/looping_statements.ipynb\" target=\"_parent\"><img src=\"https://colab.research.google.com/assets/colab-badge.svg\" alt=\"Open In Colab\"/></a>"
      ]
    },
    {
      "cell_type": "code",
      "execution_count": null,
      "metadata": {
        "colab": {
          "base_uri": "https://localhost:8080/"
        },
        "id": "rhGasfP2Mnjf",
        "outputId": "00d78133-4b55-42bf-8b8c-da7e90325aa3"
      },
      "outputs": [
        {
          "output_type": "stream",
          "name": "stdout",
          "text": [
            "P\n",
            "U\n",
            "R\n",
            "V\n",
            "A\n",
            "J\n",
            "A\n"
          ]
        }
      ],
      "source": [
        "#for loop\n",
        "for s in 'purvaja':\n",
        "  print(s.upper())\n"
      ]
    },
    {
      "cell_type": "code",
      "source": [
        "a=4\n",
        "i=0\n",
        "while i<4:\n",
        "  print(a)\n",
        "  i=i+1"
      ],
      "metadata": {
        "colab": {
          "base_uri": "https://localhost:8080/"
        },
        "id": "UiC7r9NiQrd9",
        "outputId": "5004994e-e94d-46b4-b4fe-57ad9a9c2ee4"
      },
      "execution_count": null,
      "outputs": [
        {
          "output_type": "stream",
          "name": "stdout",
          "text": [
            "4\n",
            "4\n",
            "4\n",
            "4\n"
          ]
        }
      ]
    },
    {
      "cell_type": "code",
      "source": [
        "#sum of all numbers\n",
        "a=0\n",
        "for i in [1,2,3,4,5,6,7]:\n",
        "  a=a+i\n",
        "print(a)\n",
        "\n",
        "\n",
        "#inbuilt function\n",
        "sum ([1,2,3,4,5,6,7])"
      ],
      "metadata": {
        "colab": {
          "base_uri": "https://localhost:8080/"
        },
        "id": "IO7lzNGzS0pq",
        "outputId": "8246823f-a7ee-4f12-dc58-35673f1f7710"
      },
      "execution_count": null,
      "outputs": [
        {
          "output_type": "stream",
          "name": "stdout",
          "text": [
            "28\n"
          ]
        },
        {
          "output_type": "execute_result",
          "data": {
            "text/plain": [
              "28"
            ]
          },
          "metadata": {},
          "execution_count": 22
        }
      ]
    },
    {
      "cell_type": "code",
      "source": [
        "a=['Book','coffee']\n",
        "b=['shop','person']\n",
        "for i in a:\n",
        "  for j in b:\n",
        "    print(i,j)"
      ],
      "metadata": {
        "colab": {
          "base_uri": "https://localhost:8080/"
        },
        "id": "cfBQyYofVqLT",
        "outputId": "9f9c0733-b75d-43c5-d8b9-897f217523a1"
      },
      "execution_count": null,
      "outputs": [
        {
          "output_type": "stream",
          "name": "stdout",
          "text": [
            "Book shop\n",
            "Book person\n",
            "coffee shop\n",
            "coffee person\n"
          ]
        }
      ]
    },
    {
      "cell_type": "code",
      "source": [
        "#comprehensive coding\n",
        "sum=0\n",
        "[sum:=sum+i for i in [1,2,3,4,5,6,7]]# := is called walrus operator(to assign values to a variable)\n",
        "print(sum)"
      ],
      "metadata": {
        "colab": {
          "base_uri": "https://localhost:8080/"
        },
        "id": "EpIQz-4PZGef",
        "outputId": "25e69b66-272c-4140-edd2-ab5aeb582636"
      },
      "execution_count": null,
      "outputs": [
        {
          "output_type": "stream",
          "name": "stdout",
          "text": [
            "28\n"
          ]
        }
      ]
    },
    {
      "cell_type": "code",
      "source": [
        "a=0\n",
        "while a<=10:\n",
        "  print(a)\n",
        "  a=a+2\n"
      ],
      "metadata": {
        "colab": {
          "base_uri": "https://localhost:8080/"
        },
        "id": "DefbIzA1eWsE",
        "outputId": "2fc63367-3352-482b-8d60-419493745d15"
      },
      "execution_count": null,
      "outputs": [
        {
          "output_type": "stream",
          "name": "stdout",
          "text": [
            "0\n",
            "2\n",
            "4\n",
            "6\n",
            "8\n",
            "10\n"
          ]
        }
      ]
    },
    {
      "cell_type": "code",
      "source": [
        "#print odd num alone\n",
        "a=0\n",
        "while a<10:\n",
        "  a=a+1\n",
        "  if a%2 == 0:\n",
        "    continue\n",
        "  print(a)\n"
      ],
      "metadata": {
        "colab": {
          "base_uri": "https://localhost:8080/"
        },
        "id": "XZ6yibXwe2F_",
        "outputId": "31ce8183-dfdb-4d78-c4b1-792db3f9eb56"
      },
      "execution_count": null,
      "outputs": [
        {
          "output_type": "stream",
          "name": "stdout",
          "text": [
            "1\n",
            "3\n",
            "5\n",
            "7\n",
            "9\n"
          ]
        }
      ]
    },
    {
      "cell_type": "code",
      "source": [
        "a=0\n",
        "while a<10:\n",
        "  a=a+1\n",
        "  if a==2:\n",
        "    continue\n",
        "  print(a)"
      ],
      "metadata": {
        "colab": {
          "base_uri": "https://localhost:8080/"
        },
        "id": "aKw8-FCxjB7s",
        "outputId": "6906f23b-86ab-48d5-84c8-d878b799a9ac"
      },
      "execution_count": null,
      "outputs": [
        {
          "output_type": "stream",
          "name": "stdout",
          "text": [
            "1\n",
            "3\n",
            "4\n",
            "5\n",
            "6\n",
            "7\n",
            "8\n",
            "9\n",
            "10\n"
          ]
        }
      ]
    },
    {
      "cell_type": "code",
      "source": [
        "a=0\n",
        "while a<100:\n",
        "  a=a+10\n",
        "  if a%3 == 0:\n",
        "    continue\n",
        "  print(a)"
      ],
      "metadata": {
        "colab": {
          "base_uri": "https://localhost:8080/"
        },
        "id": "7tFMUxhwl41M",
        "outputId": "884a71a2-c96b-4a31-f59b-df777049c2cc"
      },
      "execution_count": null,
      "outputs": [
        {
          "output_type": "stream",
          "name": "stdout",
          "text": [
            "10\n",
            "20\n",
            "40\n",
            "50\n",
            "70\n",
            "80\n",
            "100\n"
          ]
        }
      ]
    }
  ]
}