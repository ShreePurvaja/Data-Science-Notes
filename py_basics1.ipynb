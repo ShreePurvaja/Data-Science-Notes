{
  "nbformat": 4,
  "nbformat_minor": 0,
  "metadata": {
    "colab": {
      "provenance": [],
      "authorship_tag": "ABX9TyNqcb13aWMDU7flOxot4A4z",
      "include_colab_link": true
    },
    "kernelspec": {
      "name": "python3",
      "display_name": "Python 3"
    },
    "language_info": {
      "name": "python"
    }
  },
  "cells": [
    {
      "cell_type": "markdown",
      "metadata": {
        "id": "view-in-github",
        "colab_type": "text"
      },
      "source": [
        "<a href=\"https://colab.research.google.com/github/ShreePurvaja/Data-Science-Notes/blob/main/py_basics1.ipynb\" target=\"_parent\"><img src=\"https://colab.research.google.com/assets/colab-badge.svg\" alt=\"Open In Colab\"/></a>"
      ]
    },
    {
      "cell_type": "code",
      "execution_count": null,
      "metadata": {
        "colab": {
          "base_uri": "https://localhost:8080/"
        },
        "id": "tkK-viit7iFz",
        "outputId": "1731b993-8870-4910-d427-b4b0b0fb69c0"
      },
      "outputs": [
        {
          "output_type": "stream",
          "name": "stdout",
          "text": [
            "Enter the number:21\n",
            "Enter the number:26.6\n",
            "47.6\n"
          ]
        }
      ],
      "source": [
        "a=int(input(\"Enter the number:\"))\n",
        "b=float(input(\"Enter the number:\"))\n",
        "c=a+b\n",
        "print(c)"
      ]
    },
    {
      "cell_type": "code",
      "source": [
        "print(21+26)\n",
        "print(21-26)\n",
        "print(21*26)\n",
        "print(21/26)\n",
        "print(21%26)\n",
        "print(21//6)\n",
        "print(21**6)"
      ],
      "metadata": {
        "colab": {
          "base_uri": "https://localhost:8080/"
        },
        "id": "huBLBIxl_0z9",
        "outputId": "1bc3d969-1c7f-4338-fc0f-68d2698f0b72"
      },
      "execution_count": null,
      "outputs": [
        {
          "output_type": "stream",
          "name": "stdout",
          "text": [
            "47\n",
            "-5\n",
            "546\n",
            "0.8076923076923077\n",
            "21\n",
            "3\n",
            "85766121\n"
          ]
        }
      ]
    },
    {
      "cell_type": "code",
      "source": [
        "print(21>26)\n",
        "print(26>21)"
      ],
      "metadata": {
        "colab": {
          "base_uri": "https://localhost:8080/"
        },
        "id": "z19wCw7RMzLh",
        "outputId": "af67c152-03b4-45a1-d68f-8f1b58990e3a"
      },
      "execution_count": null,
      "outputs": [
        {
          "output_type": "stream",
          "name": "stdout",
          "text": [
            "False\n",
            "True\n"
          ]
        }
      ]
    },
    {
      "cell_type": "code",
      "source": [
        "print(26-21+6*11/38**3)"
      ],
      "metadata": {
        "colab": {
          "base_uri": "https://localhost:8080/"
        },
        "id": "GNxwW_GfBI_e",
        "outputId": "c44c4678-3903-4db0-9300-03c966f08581"
      },
      "execution_count": null,
      "outputs": [
        {
          "output_type": "stream",
          "name": "stdout",
          "text": [
            "5.001202799241872\n"
          ]
        }
      ]
    },
    {
      "cell_type": "code",
      "source": [
        "print(1<=3)\n",
        "print(1>3)\n",
        "print(1>=3)\n",
        "print(1!=3)\n",
        "print(3==2)\n",
        "print(input(\"Enter you password:\")==\"shree\")"
      ],
      "metadata": {
        "colab": {
          "base_uri": "https://localhost:8080/"
        },
        "id": "OWFTpPPUPMhh",
        "outputId": "2b079ad1-f0c7-402e-bcc0-e558df4a8a80"
      },
      "execution_count": null,
      "outputs": [
        {
          "output_type": "stream",
          "name": "stdout",
          "text": [
            "True\n",
            "False\n",
            "False\n",
            "True\n",
            "False\n",
            "Enter you password:purvaja\n",
            "False\n"
          ]
        }
      ]
    }
  ]
}