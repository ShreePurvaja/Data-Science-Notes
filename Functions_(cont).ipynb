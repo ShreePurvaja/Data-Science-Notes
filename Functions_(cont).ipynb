{
  "nbformat": 4,
  "nbformat_minor": 0,
  "metadata": {
    "colab": {
      "provenance": [],
      "authorship_tag": "ABX9TyPZ1BcHrnfiWb7YxehcJ5JS",
      "include_colab_link": true
    },
    "kernelspec": {
      "name": "python3",
      "display_name": "Python 3"
    },
    "language_info": {
      "name": "python"
    }
  },
  "cells": [
    {
      "cell_type": "markdown",
      "metadata": {
        "id": "view-in-github",
        "colab_type": "text"
      },
      "source": [
        "<a href=\"https://colab.research.google.com/github/ShreePurvaja/Data-Science-Notes/blob/main/Functions_(cont).ipynb\" target=\"_parent\"><img src=\"https://colab.research.google.com/assets/colab-badge.svg\" alt=\"Open In Colab\"/></a>"
      ]
    },
    {
      "cell_type": "markdown",
      "source": [
        "# 03.02.2025"
      ],
      "metadata": {
        "id": "BiEdzFBQ7zE9"
      }
    },
    {
      "cell_type": "code",
      "execution_count": null,
      "metadata": {
        "colab": {
          "base_uri": "https://localhost:8080/"
        },
        "id": "31fdNPQl7wl3",
        "outputId": "8f51f353-7711-4e05-fb5e-dd2660702786"
      },
      "outputs": [
        {
          "output_type": "stream",
          "name": "stdout",
          "text": [
            "20\n",
            "20\n",
            "40\n"
          ]
        }
      ],
      "source": [
        "# scope and lifetime of variables\n",
        "\n",
        "x=10  # global variable\n",
        "\n",
        "def guvi():\n",
        "  y=20  # local variable\n",
        "  print(x+10)\n",
        "  print(y+20)\n",
        "\n",
        "\n",
        "print(x+10)\n",
        "\n",
        "guvi()"
      ]
    },
    {
      "cell_type": "code",
      "source": [
        "x=10  # global variable\n",
        "print(x)  #1st print\n",
        "\n",
        "def guvi():\n",
        "  global x\n",
        "  x=x+10  # local variable\n",
        "  print(x)  #3rd print\n",
        "\n",
        "print(x)  #2nd print\n",
        "guvi()\n",
        "print(x)  #4th print"
      ],
      "metadata": {
        "colab": {
          "base_uri": "https://localhost:8080/"
        },
        "id": "lAieVacE-Jri",
        "outputId": "9ee7194d-f68b-4e9b-a2bd-057c18fb9613"
      },
      "execution_count": null,
      "outputs": [
        {
          "output_type": "stream",
          "name": "stdout",
          "text": [
            "10\n",
            "10\n",
            "20\n",
            "20\n"
          ]
        }
      ]
    },
    {
      "cell_type": "code",
      "source": [
        "# recursive function - factorial\n",
        "\n",
        "def factorial(n):\n",
        "  if n==0 or n==1:\n",
        "    return 1\n",
        "  else:\n",
        "    return n*factorial(n-1)\n",
        "\n",
        "factorial(6)"
      ],
      "metadata": {
        "colab": {
          "base_uri": "https://localhost:8080/"
        },
        "id": "BwzXAzaw_zJH",
        "outputId": "a8d09ec9-aa23-44b6-f7c2-5f8365ffe2ba"
      },
      "execution_count": null,
      "outputs": [
        {
          "output_type": "execute_result",
          "data": {
            "text/plain": [
              "720"
            ]
          },
          "metadata": {},
          "execution_count": 5
        }
      ]
    },
    {
      "cell_type": "code",
      "source": [
        "import time\n",
        "\n",
        "def time_bomb(sec):\n",
        "  if sec==0:\n",
        "    print( \"BOOM!!\")\n",
        "  else:\n",
        "    print(sec)\n",
        "    time.sleep(1) #wait for 1 sec\n",
        "    time_bomb(sec-1)  #recursive call\n",
        "\n",
        "#call the function with countdown of 5\n",
        "\n",
        "time_bomb(5)"
      ],
      "metadata": {
        "id": "VeO_s6ZgFg_T"
      },
      "execution_count": null,
      "outputs": []
    },
    {
      "cell_type": "code",
      "source": [
        "def guvi(x):\n",
        "  return x.upper()\n",
        "\n",
        "def name(x):\n",
        "  if x.isalpha():\n",
        "    return \"ellam ok\"\n",
        "  else:\n",
        "    return \"ithu seri illa\"\n",
        "\n",
        "def upper_case(x):\n",
        "  return x.upper()\n",
        "\n",
        "print(guvi(\"shree\"))\n",
        "print(name(\"shree\"))\n",
        "print(upper_case(\"shree\"))"
      ],
      "metadata": {
        "colab": {
          "base_uri": "https://localhost:8080/"
        },
        "id": "qz1BtvV_GGJT",
        "outputId": "960243a7-417d-44f3-f639-7ceb5d57ae0a"
      },
      "execution_count": null,
      "outputs": [
        {
          "output_type": "stream",
          "name": "stdout",
          "text": [
            "SHREE\n",
            "ellam ok\n",
            "SHREE\n"
          ]
        }
      ]
    },
    {
      "cell_type": "code",
      "source": [
        "#higher order\n",
        "\n",
        "def guvi(func,x):\n",
        "  return func(x)\n",
        "\n",
        "def name(x):\n",
        "  if x.isalpha():\n",
        "    return \"ellam ok\"\n",
        "  else:\n",
        "    return \"ithu seri illa\"\n",
        "\n",
        "def upper_case(x):\n",
        "  return x.upper()\n",
        "\n",
        "print(guvi(name,\"shree\"))\n",
        "print(guvi(upper_case,\"shree\"))"
      ],
      "metadata": {
        "colab": {
          "base_uri": "https://localhost:8080/"
        },
        "id": "vKKWP0N-JMRv",
        "outputId": "b68bef4b-3d6c-4a35-fb88-325b1a0c0eb2"
      },
      "execution_count": null,
      "outputs": [
        {
          "output_type": "stream",
          "name": "stdout",
          "text": [
            "ellam ok\n",
            "SHREE\n"
          ]
        }
      ]
    },
    {
      "cell_type": "code",
      "source": [
        "def calculate_total_cost(**a):  # Accepts multiple keyword arguments\n",
        "    total = sum(a.values())  # Sum of all the values\n",
        "\n",
        "    if \"discount\" in a:  # Check if discount is present\n",
        "        total = total - (total * a[\"discount\"] / 100)  # Apply discount\n",
        "\n",
        "    return total\n",
        "\n",
        "# Example usage\n",
        "cart_total = calculate_total_cost(shirt=20, pants=30, shoes=50, discount=10, kurthi=300, saree=3000)\n",
        "\n",
        "print(\"Total Cost:\", cart_total)"
      ],
      "metadata": {
        "colab": {
          "base_uri": "https://localhost:8080/"
        },
        "id": "FOEdH76kK50F",
        "outputId": "55ce209c-be89-418f-e3f9-50a00aa6c856"
      },
      "execution_count": null,
      "outputs": [
        {
          "output_type": "stream",
          "name": "stdout",
          "text": [
            "Total Cost: 3069.0\n"
          ]
        }
      ]
    },
    {
      "cell_type": "code",
      "source": [
        "#class\n",
        "\n",
        "class bank():\n",
        "  def __init__(self,name,acc,balance):  #constructor\n",
        "    self.name=name\n",
        "    self.acc=acc\n",
        "    self.balance=balance\n",
        "\n",
        "  def  deposit(self,amount):\n",
        "    self.balance=self.balance+amount\n",
        "    return self.balance\n",
        "\n",
        "  def withdraw(self,amount):\n",
        "    self.balance=self.balance-amount\n",
        "    return self.balance"
      ],
      "metadata": {
        "id": "0dy8yTshRBQ2"
      },
      "execution_count": null,
      "outputs": []
    },
    {
      "cell_type": "code",
      "source": [
        "shree=bank(\"shree\",1,10000)\n",
        "purvaja=bank(\"purvaja\",2,20000)"
      ],
      "metadata": {
        "id": "-Lu7pqZuRpI7"
      },
      "execution_count": null,
      "outputs": []
    },
    {
      "cell_type": "code",
      "source": [
        "shree.deposit(1000)"
      ],
      "metadata": {
        "colab": {
          "base_uri": "https://localhost:8080/"
        },
        "id": "-wA9RVF7R3-2",
        "outputId": "7fff952b-d280-48ee-bbd1-6aed7a0c0979"
      },
      "execution_count": null,
      "outputs": [
        {
          "output_type": "execute_result",
          "data": {
            "text/plain": [
              "11000"
            ]
          },
          "metadata": {},
          "execution_count": 48
        }
      ]
    },
    {
      "cell_type": "code",
      "source": [
        "purvaja.deposit(10000)"
      ],
      "metadata": {
        "colab": {
          "base_uri": "https://localhost:8080/"
        },
        "id": "eYeEXfsoR7c0",
        "outputId": "415452dd-6543-46da-aea8-f2a7a66259a4"
      },
      "execution_count": null,
      "outputs": [
        {
          "output_type": "execute_result",
          "data": {
            "text/plain": [
              "30000"
            ]
          },
          "metadata": {},
          "execution_count": 49
        }
      ]
    }
  ]
}